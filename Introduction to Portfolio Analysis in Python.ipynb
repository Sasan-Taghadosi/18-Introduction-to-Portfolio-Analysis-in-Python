{
 "cells": [
  {
   "cell_type": "code",
   "execution_count": 1,
   "metadata": {},
   "outputs": [],
   "source": [
    "import numpy as np\n",
    "import pandas as pd \n",
    "import matplotlib.pyplot as plt\n",
    "import seaborn as sns\n",
    "from pandas_datareader.data import DataReader\n",
    "from datetime import date\n",
    "import matplotlib\n"
   ]
  },
  {
   "cell_type": "code",
   "execution_count": 2,
   "metadata": {},
   "outputs": [
    {
     "data": {
      "text/html": [
       "<div>\n",
       "<style scoped>\n",
       "    .dataframe tbody tr th:only-of-type {\n",
       "        vertical-align: middle;\n",
       "    }\n",
       "\n",
       "    .dataframe tbody tr th {\n",
       "        vertical-align: top;\n",
       "    }\n",
       "\n",
       "    .dataframe thead th {\n",
       "        text-align: right;\n",
       "    }\n",
       "</style>\n",
       "<table border=\"1\" class=\"dataframe\">\n",
       "  <thead>\n",
       "    <tr style=\"text-align: right;\">\n",
       "      <th></th>\n",
       "      <th>A</th>\n",
       "      <th>B</th>\n",
       "    </tr>\n",
       "    <tr>\n",
       "      <th>date</th>\n",
       "      <th></th>\n",
       "      <th></th>\n",
       "    </tr>\n",
       "  </thead>\n",
       "  <tbody>\n",
       "    <tr>\n",
       "      <th>2020-01-01</th>\n",
       "      <td>0.05</td>\n",
       "      <td>-0.09</td>\n",
       "    </tr>\n",
       "    <tr>\n",
       "      <th>2020-02-01</th>\n",
       "      <td>-0.08</td>\n",
       "      <td>0.02</td>\n",
       "    </tr>\n",
       "  </tbody>\n",
       "</table>\n",
       "</div>"
      ],
      "text/plain": [
       "               A     B\n",
       "date                  \n",
       "2020-01-01  0.05 -0.09\n",
       "2020-02-01 -0.08  0.02"
      ]
     },
     "execution_count": 2,
     "metadata": {},
     "output_type": "execute_result"
    }
   ],
   "source": [
    "port_test = pd.read_excel(\"F:\\\\schulich\\\\datacamp\\\\python finance fundamentals\\\\6-Introduction to Portfolio Analysis in Python\\\\portfolio test.xlsx\",\n",
    "                            parse_dates=['date'], index_col='date')\n",
    "returns_test = port_test\n",
    "port_test.head()"
   ]
  },
  {
   "cell_type": "code",
   "execution_count": 3,
   "metadata": {},
   "outputs": [
    {
     "data": {
      "text/plain": [
       "A   -0.017147\n",
       "B   -0.036569\n",
       "dtype: float64"
      ]
     },
     "execution_count": 3,
     "metadata": {},
     "output_type": "execute_result"
    }
   ],
   "source": [
    "GeoMeanReturns = ((port_test+1).prod())**(1/(len(port_test.index)))-1\n",
    "GeoMeanReturns"
   ]
  },
  {
   "cell_type": "code",
   "execution_count": 4,
   "metadata": {},
   "outputs": [
    {
     "data": {
      "text/plain": [
       "-0.022973496714656927"
      ]
     },
     "execution_count": 4,
     "metadata": {},
     "output_type": "execute_result"
    }
   ],
   "source": [
    "weights = [0.7, 0.3]\n",
    "# Calculate expected portfolio performance\n",
    "porTestReturn = np.sum(GeoMeanReturns*weights)\n",
    "porTestReturn"
   ]
  },
  {
   "cell_type": "code",
   "execution_count": 5,
   "metadata": {},
   "outputs": [
    {
     "data": {
      "text/plain": [
       "A   -0.012003\n",
       "B   -0.010971\n",
       "dtype: float64"
      ]
     },
     "execution_count": 5,
     "metadata": {},
     "output_type": "execute_result"
    }
   ],
   "source": [
    "GeoMeanReturns*weights"
   ]
  },
  {
   "cell_type": "code",
   "execution_count": 6,
   "metadata": {},
   "outputs": [
    {
     "data": {
      "text/plain": [
       "date\n",
       "2020-01-01    0.008\n",
       "2020-02-01   -0.050\n",
       "Name: Portfolio, dtype: float64"
      ]
     },
     "execution_count": 6,
     "metadata": {},
     "output_type": "execute_result"
    }
   ],
   "source": [
    "# Create portfolio returns column\n",
    "port_test['Portfolio']= port_test.dot(weights)\n",
    "port_test['Portfolio']"
   ]
  },
  {
   "cell_type": "code",
   "execution_count": 7,
   "metadata": {},
   "outputs": [
    {
     "data": {
      "text/html": [
       "<div>\n",
       "<style scoped>\n",
       "    .dataframe tbody tr th:only-of-type {\n",
       "        vertical-align: middle;\n",
       "    }\n",
       "\n",
       "    .dataframe tbody tr th {\n",
       "        vertical-align: top;\n",
       "    }\n",
       "\n",
       "    .dataframe thead th {\n",
       "        text-align: right;\n",
       "    }\n",
       "</style>\n",
       "<table border=\"1\" class=\"dataframe\">\n",
       "  <thead>\n",
       "    <tr style=\"text-align: right;\">\n",
       "      <th></th>\n",
       "      <th>A</th>\n",
       "      <th>B</th>\n",
       "      <th>Portfolio</th>\n",
       "    </tr>\n",
       "    <tr>\n",
       "      <th>date</th>\n",
       "      <th></th>\n",
       "      <th></th>\n",
       "      <th></th>\n",
       "    </tr>\n",
       "  </thead>\n",
       "  <tbody>\n",
       "    <tr>\n",
       "      <th>2020-01-01</th>\n",
       "      <td>1.050</td>\n",
       "      <td>0.9100</td>\n",
       "      <td>1.0080</td>\n",
       "    </tr>\n",
       "    <tr>\n",
       "      <th>2020-02-01</th>\n",
       "      <td>0.966</td>\n",
       "      <td>0.9282</td>\n",
       "      <td>0.9576</td>\n",
       "    </tr>\n",
       "  </tbody>\n",
       "</table>\n",
       "</div>"
      ],
      "text/plain": [
       "                A       B  Portfolio\n",
       "date                                \n",
       "2020-01-01  1.050  0.9100     1.0080\n",
       "2020-02-01  0.966  0.9282     0.9576"
      ]
     },
     "execution_count": 7,
     "metadata": {},
     "output_type": "execute_result"
    }
   ],
   "source": [
    "# Calculate cumulative returns\n",
    "daily_cum_return=(1+returns_test).cumprod()\n",
    "daily_cum_return"
   ]
  },
  {
   "cell_type": "code",
   "execution_count": 8,
   "metadata": {
    "scrolled": true
   },
   "outputs": [
    {
     "data": {
      "text/plain": [
       "-0.022973496714656927"
      ]
     },
     "execution_count": 8,
     "metadata": {},
     "output_type": "execute_result"
    }
   ],
   "source": [
    "# Calculate expected portfolio performance\n",
    "portReturn = np.sum(GeoMeanReturns*weights)\n",
    "portReturn"
   ]
  },
  {
   "cell_type": "code",
   "execution_count": 9,
   "metadata": {},
   "outputs": [],
   "source": [
    "# lets do with a bigger and more real data set"
   ]
  },
  {
   "cell_type": "code",
   "execution_count": 10,
   "metadata": {
    "scrolled": true
   },
   "outputs": [
    {
     "data": {
      "text/plain": [
       "<AxesSubplot:xlabel='Date'>"
      ]
     },
     "execution_count": 10,
     "metadata": {},
     "output_type": "execute_result"
    },
    {
     "data": {
      "image/png": "[encoded data removed]",
      "text/plain": [
       "<Figure size 432x288 with 1 Axes>"
      ]
     },
     "metadata": {
      "needs_background": "light"
     },
     "output_type": "display_data"
    }
   ],
   "source": [
    "stock_returns = pd.read_excel(\"F:\\\\schulich\\\\datacamp\\\\python finance fundamentals\\\\6-Introduction to Portfolio Analysis in Python\\\\stock_returns.xlsx\",\n",
    "                             parse_dates=['Date'], index_col='Date')\n",
    "stock_returns.plot()"
   ]
  },
  {
   "cell_type": "code",
   "execution_count": 11,
   "metadata": {
    "scrolled": true
   },
   "outputs": [
    {
     "data": {
      "text/html": [
       "<div>\n",
       "<style scoped>\n",
       "    .dataframe tbody tr th:only-of-type {\n",
       "        vertical-align: middle;\n",
       "    }\n",
       "\n",
       "    .dataframe tbody tr th {\n",
       "        vertical-align: top;\n",
       "    }\n",
       "\n",
       "    .dataframe thead th {\n",
       "        text-align: right;\n",
       "    }\n",
       "</style>\n",
       "<table border=\"1\" class=\"dataframe\">\n",
       "  <thead>\n",
       "    <tr style=\"text-align: right;\">\n",
       "      <th></th>\n",
       "      <th>GE</th>\n",
       "      <th>GPM</th>\n",
       "      <th>MSF</th>\n",
       "      <th>PG</th>\n",
       "    </tr>\n",
       "    <tr>\n",
       "      <th>date</th>\n",
       "      <th></th>\n",
       "      <th></th>\n",
       "      <th></th>\n",
       "      <th></th>\n",
       "    </tr>\n",
       "  </thead>\n",
       "  <tbody>\n",
       "    <tr>\n",
       "      <th>2015-01-02</th>\n",
       "      <td>25.06</td>\n",
       "      <td>62.49</td>\n",
       "      <td>46.760</td>\n",
       "      <td>90.44</td>\n",
       "    </tr>\n",
       "    <tr>\n",
       "      <th>2015-01-05</th>\n",
       "      <td>24.60</td>\n",
       "      <td>60.55</td>\n",
       "      <td>46.325</td>\n",
       "      <td>90.01</td>\n",
       "    </tr>\n",
       "    <tr>\n",
       "      <th>2015-01-06</th>\n",
       "      <td>24.07</td>\n",
       "      <td>58.98</td>\n",
       "      <td>45.650</td>\n",
       "      <td>89.60</td>\n",
       "    </tr>\n",
       "    <tr>\n",
       "      <th>2015-01-07</th>\n",
       "      <td>24.08</td>\n",
       "      <td>59.07</td>\n",
       "      <td>46.230</td>\n",
       "      <td>90.07</td>\n",
       "    </tr>\n",
       "    <tr>\n",
       "      <th>2015-01-08</th>\n",
       "      <td>24.37</td>\n",
       "      <td>60.39</td>\n",
       "      <td>47.590</td>\n",
       "      <td>91.10</td>\n",
       "    </tr>\n",
       "  </tbody>\n",
       "</table>\n",
       "</div>"
      ],
      "text/plain": [
       "               GE    GPM     MSF     PG\n",
       "date                                   \n",
       "2015-01-02  25.06  62.49  46.760  90.44\n",
       "2015-01-05  24.60  60.55  46.325  90.01\n",
       "2015-01-06  24.07  58.98  45.650  89.60\n",
       "2015-01-07  24.08  59.07  46.230  90.07\n",
       "2015-01-08  24.37  60.39  47.590  91.10"
      ]
     },
     "execution_count": 11,
     "metadata": {},
     "output_type": "execute_result"
    }
   ],
   "source": [
    "# let calculate return from stock prices\n",
    "data = pd.read_excel(\"F:\\\\schulich\\\\datacamp\\\\python finance fundamentals\\\\6-Introduction to Portfolio Analysis in Python\\\\stock_prices-4 company.xlsx\",\n",
    "                            parse_dates=['date'], index_col='date')\n",
    "data.head()\n"
   ]
  },
  {
   "cell_type": "code",
   "execution_count": 12,
   "metadata": {},
   "outputs": [
    {
     "data": {
      "text/html": [
       "<div>\n",
       "<style scoped>\n",
       "    .dataframe tbody tr th:only-of-type {\n",
       "        vertical-align: middle;\n",
       "    }\n",
       "\n",
       "    .dataframe tbody tr th {\n",
       "        vertical-align: top;\n",
       "    }\n",
       "\n",
       "    .dataframe thead th {\n",
       "        text-align: right;\n",
       "    }\n",
       "</style>\n",
       "<table border=\"1\" class=\"dataframe\">\n",
       "  <thead>\n",
       "    <tr style=\"text-align: right;\">\n",
       "      <th></th>\n",
       "      <th>GE</th>\n",
       "      <th>GPM</th>\n",
       "      <th>MSF</th>\n",
       "      <th>PG</th>\n",
       "    </tr>\n",
       "    <tr>\n",
       "      <th>date</th>\n",
       "      <th></th>\n",
       "      <th></th>\n",
       "      <th></th>\n",
       "      <th></th>\n",
       "    </tr>\n",
       "  </thead>\n",
       "  <tbody>\n",
       "    <tr>\n",
       "      <th>2015-01-02</th>\n",
       "      <td>NaN</td>\n",
       "      <td>NaN</td>\n",
       "      <td>NaN</td>\n",
       "      <td>NaN</td>\n",
       "    </tr>\n",
       "    <tr>\n",
       "      <th>2015-01-05</th>\n",
       "      <td>-0.018356</td>\n",
       "      <td>-0.031045</td>\n",
       "      <td>-0.009303</td>\n",
       "      <td>-0.004755</td>\n",
       "    </tr>\n",
       "    <tr>\n",
       "      <th>2015-01-06</th>\n",
       "      <td>-0.021545</td>\n",
       "      <td>-0.025929</td>\n",
       "      <td>-0.014571</td>\n",
       "      <td>-0.004555</td>\n",
       "    </tr>\n",
       "    <tr>\n",
       "      <th>2015-01-07</th>\n",
       "      <td>0.000415</td>\n",
       "      <td>0.001526</td>\n",
       "      <td>0.012705</td>\n",
       "      <td>0.005246</td>\n",
       "    </tr>\n",
       "    <tr>\n",
       "      <th>2015-01-08</th>\n",
       "      <td>0.012043</td>\n",
       "      <td>0.022346</td>\n",
       "      <td>0.029418</td>\n",
       "      <td>0.011436</td>\n",
       "    </tr>\n",
       "  </tbody>\n",
       "</table>\n",
       "</div>"
      ],
      "text/plain": [
       "                  GE       GPM       MSF        PG\n",
       "date                                              \n",
       "2015-01-02       NaN       NaN       NaN       NaN\n",
       "2015-01-05 -0.018356 -0.031045 -0.009303 -0.004755\n",
       "2015-01-06 -0.021545 -0.025929 -0.014571 -0.004555\n",
       "2015-01-07  0.000415  0.001526  0.012705  0.005246\n",
       "2015-01-08  0.012043  0.022346  0.029418  0.011436"
      ]
     },
     "execution_count": 12,
     "metadata": {},
     "output_type": "execute_result"
    }
   ],
   "source": [
    "# Calculate percentage returns\n",
    "returns = data.pct_change()\n",
    "returns.head()"
   ]
  },
  {
   "cell_type": "code",
   "execution_count": 13,
   "metadata": {},
   "outputs": [
    {
     "data": {
      "text/plain": [
       "GE    -0.000767\n",
       "GPM    0.000676\n",
       "MSF    0.000799\n",
       "PG    -0.000186\n",
       "dtype: float64"
      ]
     },
     "execution_count": 13,
     "metadata": {},
     "output_type": "execute_result"
    }
   ],
   "source": [
    "# Calculate individual mean returns \n",
    "GeoMeanDailyReturns = ((returns+1).prod())**(1/(len(data.index)-1))-1\n",
    "GeoMeanDailyReturns"
   ]
  },
  {
   "cell_type": "code",
   "execution_count": 14,
   "metadata": {},
   "outputs": [],
   "source": [
    "weights = [0.5, 0.2, 0.2, 0.1]"
   ]
  },
  {
   "cell_type": "code",
   "execution_count": 15,
   "metadata": {},
   "outputs": [
    {
     "data": {
      "text/plain": [
       "date\n",
       "2015-01-02         NaN\n",
       "2015-01-05   -0.017723\n",
       "2015-01-06   -0.019328\n",
       "2015-01-07    0.003579\n",
       "2015-01-08    0.017518\n",
       "                ...   \n",
       "2018-03-21    0.005954\n",
       "2018-03-22   -0.034077\n",
       "2018-03-23   -0.022303\n",
       "2018-03-26    0.015081\n",
       "2018-03-27    0.010069\n",
       "Name: Portfolio, Length: 813, dtype: float64"
      ]
     },
     "execution_count": 15,
     "metadata": {},
     "output_type": "execute_result"
    }
   ],
   "source": [
    "# Create portfolio returns column\n",
    "returns['Portfolio']= returns.dot(weights)\n",
    "returns['Portfolio']"
   ]
  },
  {
   "cell_type": "code",
   "execution_count": 16,
   "metadata": {},
   "outputs": [
    {
     "data": {
      "text/html": [
       "<div>\n",
       "<style scoped>\n",
       "    .dataframe tbody tr th:only-of-type {\n",
       "        vertical-align: middle;\n",
       "    }\n",
       "\n",
       "    .dataframe tbody tr th {\n",
       "        vertical-align: top;\n",
       "    }\n",
       "\n",
       "    .dataframe thead th {\n",
       "        text-align: right;\n",
       "    }\n",
       "</style>\n",
       "<table border=\"1\" class=\"dataframe\">\n",
       "  <thead>\n",
       "    <tr style=\"text-align: right;\">\n",
       "      <th></th>\n",
       "      <th>GE</th>\n",
       "      <th>GPM</th>\n",
       "      <th>MSF</th>\n",
       "      <th>PG</th>\n",
       "      <th>Portfolio</th>\n",
       "    </tr>\n",
       "    <tr>\n",
       "      <th>date</th>\n",
       "      <th></th>\n",
       "      <th></th>\n",
       "      <th></th>\n",
       "      <th></th>\n",
       "      <th></th>\n",
       "    </tr>\n",
       "  </thead>\n",
       "  <tbody>\n",
       "    <tr>\n",
       "      <th>2015-01-02</th>\n",
       "      <td>NaN</td>\n",
       "      <td>NaN</td>\n",
       "      <td>NaN</td>\n",
       "      <td>NaN</td>\n",
       "      <td>NaN</td>\n",
       "    </tr>\n",
       "    <tr>\n",
       "      <th>2015-01-05</th>\n",
       "      <td>0.981644</td>\n",
       "      <td>0.968955</td>\n",
       "      <td>0.990697</td>\n",
       "      <td>0.995245</td>\n",
       "      <td>0.982277</td>\n",
       "    </tr>\n",
       "    <tr>\n",
       "      <th>2015-01-06</th>\n",
       "      <td>0.960495</td>\n",
       "      <td>0.943831</td>\n",
       "      <td>0.976262</td>\n",
       "      <td>0.990712</td>\n",
       "      <td>0.963292</td>\n",
       "    </tr>\n",
       "    <tr>\n",
       "      <th>2015-01-07</th>\n",
       "      <td>0.960894</td>\n",
       "      <td>0.945271</td>\n",
       "      <td>0.988666</td>\n",
       "      <td>0.995909</td>\n",
       "      <td>0.966739</td>\n",
       "    </tr>\n",
       "    <tr>\n",
       "      <th>2015-01-08</th>\n",
       "      <td>0.972466</td>\n",
       "      <td>0.966395</td>\n",
       "      <td>1.017750</td>\n",
       "      <td>1.007298</td>\n",
       "      <td>0.983674</td>\n",
       "    </tr>\n",
       "    <tr>\n",
       "      <th>...</th>\n",
       "      <td>...</td>\n",
       "      <td>...</td>\n",
       "      <td>...</td>\n",
       "      <td>...</td>\n",
       "      <td>...</td>\n",
       "    </tr>\n",
       "    <tr>\n",
       "      <th>2018-03-21</th>\n",
       "      <td>0.553871</td>\n",
       "      <td>1.836134</td>\n",
       "      <td>1.977759</td>\n",
       "      <td>0.851835</td>\n",
       "      <td>0.974287</td>\n",
       "    </tr>\n",
       "    <tr>\n",
       "      <th>2018-03-22</th>\n",
       "      <td>0.532721</td>\n",
       "      <td>1.759482</td>\n",
       "      <td>1.920231</td>\n",
       "      <td>0.844870</td>\n",
       "      <td>0.941086</td>\n",
       "    </tr>\n",
       "    <tr>\n",
       "      <th>2018-03-23</th>\n",
       "      <td>0.521548</td>\n",
       "      <td>1.712434</td>\n",
       "      <td>1.864414</td>\n",
       "      <td>0.839341</td>\n",
       "      <td>0.920097</td>\n",
       "    </tr>\n",
       "    <tr>\n",
       "      <th>2018-03-26</th>\n",
       "      <td>0.514366</td>\n",
       "      <td>1.765242</td>\n",
       "      <td>2.005560</td>\n",
       "      <td>0.844870</td>\n",
       "      <td>0.933974</td>\n",
       "    </tr>\n",
       "    <tr>\n",
       "      <th>2018-03-27</th>\n",
       "      <td>0.536313</td>\n",
       "      <td>1.730997</td>\n",
       "      <td>1.913388</td>\n",
       "      <td>0.860128</td>\n",
       "      <td>0.943378</td>\n",
       "    </tr>\n",
       "  </tbody>\n",
       "</table>\n",
       "<p>813 rows × 5 columns</p>\n",
       "</div>"
      ],
      "text/plain": [
       "                  GE       GPM       MSF        PG  Portfolio\n",
       "date                                                         \n",
       "2015-01-02       NaN       NaN       NaN       NaN        NaN\n",
       "2015-01-05  0.981644  0.968955  0.990697  0.995245   0.982277\n",
       "2015-01-06  0.960495  0.943831  0.976262  0.990712   0.963292\n",
       "2015-01-07  0.960894  0.945271  0.988666  0.995909   0.966739\n",
       "2015-01-08  0.972466  0.966395  1.017750  1.007298   0.983674\n",
       "...              ...       ...       ...       ...        ...\n",
       "2018-03-21  0.553871  1.836134  1.977759  0.851835   0.974287\n",
       "2018-03-22  0.532721  1.759482  1.920231  0.844870   0.941086\n",
       "2018-03-23  0.521548  1.712434  1.864414  0.839341   0.920097\n",
       "2018-03-26  0.514366  1.765242  2.005560  0.844870   0.933974\n",
       "2018-03-27  0.536313  1.730997  1.913388  0.860128   0.943378\n",
       "\n",
       "[813 rows x 5 columns]"
      ]
     },
     "execution_count": 16,
     "metadata": {},
     "output_type": "execute_result"
    }
   ],
   "source": [
    "# Calculate cumulative returns\n",
    "daily_cum_ret=(1+returns).cumprod()\n",
    "daily_cum_ret"
   ]
  },
  {
   "cell_type": "code",
   "execution_count": 17,
   "metadata": {},
   "outputs": [
    {
     "data": {
      "image/png": "[encoded data removed]",
      "text/plain": [
       "<Figure size 432x288 with 1 Axes>"
      ]
     },
     "metadata": {
      "needs_background": "light"
     },
     "output_type": "display_data"
    }
   ],
   "source": [
    "# Plot the portfolio cumulative returns only\n",
    "fig, ax = plt.subplots()\n",
    "ax.plot(daily_cum_ret.index, daily_cum_ret.Portfolio, color='purple', label=\"portfolio\")\n",
    "ax.xaxis.set_major_locator(matplotlib.dates.YearLocator())\n",
    "plt.legend()\n",
    "plt.show()"
   ]
  },
  {
   "cell_type": "code",
   "execution_count": 18,
   "metadata": {},
   "outputs": [],
   "source": [
    "# calculating the volatility of portfolio\n",
    "# set new weights\n",
    "# Assign portfolio weights\n",
    "weights = np.array([0.05, 0.4, 0.3, 0.25])"
   ]
  },
  {
   "cell_type": "code",
   "execution_count": 19,
   "metadata": {},
   "outputs": [
    {
     "name": "stdout",
     "output_type": "stream",
     "text": [
      "           GE       GPM       MSF        PG\n",
      "GE   0.045987  0.022828  0.016285  0.010101\n",
      "GPM  0.022828  0.046660  0.024135  0.010812\n",
      "MSF  0.016285  0.024135  0.054054  0.014144\n",
      "PG   0.010101  0.010812  0.014144  0.020645\n"
     ]
    }
   ],
   "source": [
    "# Calculate the covariance matrix on daily returns\n",
    "daily_returns = data.pct_change()\n",
    "cov_matrix = (daily_returns.cov())*250\n",
    "print (cov_matrix)"
   ]
  },
  {
   "cell_type": "code",
   "execution_count": 20,
   "metadata": {},
   "outputs": [
    {
     "name": "stdout",
     "output_type": "stream",
     "text": [
      "2.55%\n"
     ]
    }
   ],
   "source": [
    "# Calculate the portfolio variance\n",
    "port_variance = np.dot(weights.T, np.dot(cov_matrix, weights))\n",
    "\n",
    "# Print the result\n",
    "print(str(np.round(port_variance, 4) * 100) + '%')"
   ]
  },
  {
   "cell_type": "code",
   "execution_count": 21,
   "metadata": {},
   "outputs": [
    {
     "name": "stdout",
     "output_type": "stream",
     "text": [
      "15.959999999999999%\n"
     ]
    }
   ],
   "source": [
    "# Calculate the standard deviation by taking the square root\n",
    "port_standard_dev = np.sqrt(port_variance)\n",
    "\n",
    "# Print the results \n",
    "print(str(np.round(port_standard_dev, 4) * 100) + '%')"
   ]
  },
  {
   "cell_type": "code",
   "execution_count": 22,
   "metadata": {},
   "outputs": [
    {
     "data": {
      "text/html": [
       "<div>\n",
       "<style scoped>\n",
       "    .dataframe tbody tr th:only-of-type {\n",
       "        vertical-align: middle;\n",
       "    }\n",
       "\n",
       "    .dataframe tbody tr th {\n",
       "        vertical-align: top;\n",
       "    }\n",
       "\n",
       "    .dataframe thead th {\n",
       "        text-align: right;\n",
       "    }\n",
       "</style>\n",
       "<table border=\"1\" class=\"dataframe\">\n",
       "  <thead>\n",
       "    <tr style=\"text-align: right;\">\n",
       "      <th></th>\n",
       "      <th>GE</th>\n",
       "      <th>GPM</th>\n",
       "      <th>MSF</th>\n",
       "      <th>PG</th>\n",
       "    </tr>\n",
       "    <tr>\n",
       "      <th>date</th>\n",
       "      <th></th>\n",
       "      <th></th>\n",
       "      <th></th>\n",
       "      <th></th>\n",
       "    </tr>\n",
       "  </thead>\n",
       "  <tbody>\n",
       "    <tr>\n",
       "      <th>2015-01-02</th>\n",
       "      <td>NaN</td>\n",
       "      <td>NaN</td>\n",
       "      <td>NaN</td>\n",
       "      <td>NaN</td>\n",
       "    </tr>\n",
       "    <tr>\n",
       "      <th>2015-01-05</th>\n",
       "      <td>-0.018356</td>\n",
       "      <td>-0.031045</td>\n",
       "      <td>-0.009303</td>\n",
       "      <td>-0.004755</td>\n",
       "    </tr>\n",
       "    <tr>\n",
       "      <th>2015-01-06</th>\n",
       "      <td>-0.021545</td>\n",
       "      <td>-0.025929</td>\n",
       "      <td>-0.014571</td>\n",
       "      <td>-0.004555</td>\n",
       "    </tr>\n",
       "    <tr>\n",
       "      <th>2015-01-07</th>\n",
       "      <td>0.000415</td>\n",
       "      <td>0.001526</td>\n",
       "      <td>0.012705</td>\n",
       "      <td>0.005246</td>\n",
       "    </tr>\n",
       "    <tr>\n",
       "      <th>2015-01-08</th>\n",
       "      <td>0.012043</td>\n",
       "      <td>0.022346</td>\n",
       "      <td>0.029418</td>\n",
       "      <td>0.011436</td>\n",
       "    </tr>\n",
       "    <tr>\n",
       "      <th>...</th>\n",
       "      <td>...</td>\n",
       "      <td>...</td>\n",
       "      <td>...</td>\n",
       "      <td>...</td>\n",
       "    </tr>\n",
       "    <tr>\n",
       "      <th>2018-03-21</th>\n",
       "      <td>0.017595</td>\n",
       "      <td>0.000872</td>\n",
       "      <td>-0.006979</td>\n",
       "      <td>-0.016218</td>\n",
       "    </tr>\n",
       "    <tr>\n",
       "      <th>2018-03-22</th>\n",
       "      <td>-0.038184</td>\n",
       "      <td>-0.041747</td>\n",
       "      <td>-0.029087</td>\n",
       "      <td>-0.008178</td>\n",
       "    </tr>\n",
       "    <tr>\n",
       "      <th>2018-03-23</th>\n",
       "      <td>-0.020974</td>\n",
       "      <td>-0.026739</td>\n",
       "      <td>-0.029068</td>\n",
       "      <td>-0.006544</td>\n",
       "    </tr>\n",
       "    <tr>\n",
       "      <th>2018-03-26</th>\n",
       "      <td>-0.013772</td>\n",
       "      <td>0.030838</td>\n",
       "      <td>0.075705</td>\n",
       "      <td>0.006587</td>\n",
       "    </tr>\n",
       "    <tr>\n",
       "      <th>2018-03-27</th>\n",
       "      <td>0.042669</td>\n",
       "      <td>-0.019400</td>\n",
       "      <td>-0.045959</td>\n",
       "      <td>0.018060</td>\n",
       "    </tr>\n",
       "  </tbody>\n",
       "</table>\n",
       "<p>813 rows × 4 columns</p>\n",
       "</div>"
      ],
      "text/plain": [
       "                  GE       GPM       MSF        PG\n",
       "date                                              \n",
       "2015-01-02       NaN       NaN       NaN       NaN\n",
       "2015-01-05 -0.018356 -0.031045 -0.009303 -0.004755\n",
       "2015-01-06 -0.021545 -0.025929 -0.014571 -0.004555\n",
       "2015-01-07  0.000415  0.001526  0.012705  0.005246\n",
       "2015-01-08  0.012043  0.022346  0.029418  0.011436\n",
       "...              ...       ...       ...       ...\n",
       "2018-03-21  0.017595  0.000872 -0.006979 -0.016218\n",
       "2018-03-22 -0.038184 -0.041747 -0.029087 -0.008178\n",
       "2018-03-23 -0.020974 -0.026739 -0.029068 -0.006544\n",
       "2018-03-26 -0.013772  0.030838  0.075705  0.006587\n",
       "2018-03-27  0.042669 -0.019400 -0.045959  0.018060\n",
       "\n",
       "[813 rows x 4 columns]"
      ]
     },
     "execution_count": 22,
     "metadata": {},
     "output_type": "execute_result"
    }
   ],
   "source": [
    "daily_returns"
   ]
  },
  {
   "cell_type": "code",
   "execution_count": 23,
   "metadata": {},
   "outputs": [
    {
     "data": {
      "text/plain": [
       "date\n",
       "2015-01-02         NaN\n",
       "2015-01-05   -0.013196\n",
       "2015-01-06   -0.015841\n",
       "2015-01-07    0.009723\n",
       "2015-01-08    0.026206\n",
       "                ...   \n",
       "2018-03-21   -0.006333\n",
       "2018-03-22   -0.029528\n",
       "2018-03-23   -0.026350\n",
       "2018-03-26    0.059820\n",
       "2018-03-27   -0.034245\n",
       "Name: Portfolio, Length: 813, dtype: float64"
      ]
     },
     "execution_count": 23,
     "metadata": {},
     "output_type": "execute_result"
    }
   ],
   "source": [
    "# lets change the weights again and do the caluclations with new weight\n",
    "weights = [0, 0.2, 0.7, 0.1]\n",
    "# Create portfolio returns column\n",
    "daily_returns['Portfolio']= daily_returns.dot(weights)\n",
    "daily_returns['Portfolio']\n"
   ]
  },
  {
   "cell_type": "code",
   "execution_count": 24,
   "metadata": {},
   "outputs": [
    {
     "data": {
      "text/plain": [
       "date\n",
       "2015-01-02         NaN\n",
       "2015-01-05    0.986804\n",
       "2015-01-06    0.971172\n",
       "2015-01-07    0.980615\n",
       "2015-01-08    1.006312\n",
       "                ...   \n",
       "2018-03-21    1.823639\n",
       "2018-03-22    1.769790\n",
       "2018-03-23    1.723157\n",
       "2018-03-26    1.826236\n",
       "2018-03-27    1.763697\n",
       "Name: Portfolio, Length: 813, dtype: float64"
      ]
     },
     "execution_count": 24,
     "metadata": {},
     "output_type": "execute_result"
    }
   ],
   "source": [
    "daily_cum_ret=(1+daily_returns['Portfolio']).cumprod()\n",
    "daily_cum_ret"
   ]
  },
  {
   "cell_type": "code",
   "execution_count": 25,
   "metadata": {},
   "outputs": [
    {
     "data": {
      "text/plain": [
       "date\n",
       "2015-01-02    101.000000\n",
       "2015-01-05     99.667161\n",
       "2015-01-06     98.088336\n",
       "2015-01-07     99.042098\n",
       "2015-01-08    101.637547\n",
       "                 ...    \n",
       "2018-03-21    184.187566\n",
       "2018-03-22    178.748834\n",
       "2018-03-23    174.038850\n",
       "2018-03-26    184.449877\n",
       "2018-03-27    178.133397\n",
       "Name: Portfolio, Length: 813, dtype: float64"
      ]
     },
     "execution_count": 25,
     "metadata": {},
     "output_type": "execute_result"
    }
   ],
   "source": [
    "initial_investment_in_portfolio = 101\n",
    "\n",
    "# let calculate the cumulative value of portfolio with initial investment\n",
    "pf_AUM = initial_investment_in_portfolio*daily_cum_ret\n",
    "pf_AUM[0] = initial_investment_in_portfolio\n",
    "pf_AUM"
   ]
  },
  {
   "cell_type": "code",
   "execution_count": 26,
   "metadata": {},
   "outputs": [
    {
     "data": {
      "text/plain": [
       "0.7636969993537522"
      ]
     },
     "execution_count": 26,
     "metadata": {},
     "output_type": "execute_result"
    }
   ],
   "source": [
    "total_return = (pf_AUM[-1] - pf_AUM[0]) / pf_AUM[0]\n",
    "total_return"
   ]
  },
  {
   "cell_type": "code",
   "execution_count": 27,
   "metadata": {},
   "outputs": [
    {
     "name": "stdout",
     "output_type": "stream",
     "text": [
      "0.196239386830515\n"
     ]
    }
   ],
   "source": [
    "# Annualize return\n",
    "# first we need to get the duration of our investment\n",
    "months = 38\n",
    "days_investment_term = len(pf_AUM.index)-1\n",
    "annualized_return =  ((1 + total_return)**(12/months))-1\n",
    "print(annualized_return)"
   ]
  },
  {
   "cell_type": "code",
   "execution_count": 28,
   "metadata": {},
   "outputs": [
    {
     "data": {
      "text/plain": [
       "0.7636969993537522"
      ]
     },
     "execution_count": 28,
     "metadata": {},
     "output_type": "execute_result"
    }
   ],
   "source": [
    "total_return"
   ]
  },
  {
   "cell_type": "code",
   "execution_count": 29,
   "metadata": {},
   "outputs": [
    {
     "name": "stdout",
     "output_type": "stream",
     "text": [
      "1.010287599748172\n"
     ]
    }
   ],
   "source": [
    "# Calculate total return and annualized return from price data\n",
    "rfr = 0\n",
    "\n",
    "total_return = (pf_AUM[-1] - pf_AUM[0]) / pf_AUM[0]\n",
    "\n",
    "# Annualize the total return over 4 year \n",
    "annualized_return = ((1 + total_return)**(12/38))-1\n",
    "\n",
    "# Create the returns data \n",
    "pf_returns = pf_AUM.pct_change()\n",
    "\n",
    "# Calculate annualized volatility from the standard deviation\n",
    "vol_pf = pf_returns.std()*np.sqrt(250)\n",
    "\n",
    "# Calculate the Sharpe ratio \n",
    "sharpe_ratio = ((annualized_return - rfr) /vol_pf)\n",
    "print (sharpe_ratio)"
   ]
  },
  {
   "cell_type": "code",
   "execution_count": 30,
   "metadata": {},
   "outputs": [
    {
     "data": {
      "text/html": [
       "<div>\n",
       "<style scoped>\n",
       "    .dataframe tbody tr th:only-of-type {\n",
       "        vertical-align: middle;\n",
       "    }\n",
       "\n",
       "    .dataframe tbody tr th {\n",
       "        vertical-align: top;\n",
       "    }\n",
       "\n",
       "    .dataframe thead th {\n",
       "        text-align: right;\n",
       "    }\n",
       "</style>\n",
       "<table border=\"1\" class=\"dataframe\">\n",
       "  <thead>\n",
       "    <tr style=\"text-align: right;\">\n",
       "      <th></th>\n",
       "      <th>sp500</th>\n",
       "    </tr>\n",
       "    <tr>\n",
       "      <th>date</th>\n",
       "      <th></th>\n",
       "    </tr>\n",
       "  </thead>\n",
       "  <tbody>\n",
       "    <tr>\n",
       "      <th>2015-01-02</th>\n",
       "      <td>2058.199951</td>\n",
       "    </tr>\n",
       "    <tr>\n",
       "      <th>2015-01-05</th>\n",
       "      <td>2020.579956</td>\n",
       "    </tr>\n",
       "    <tr>\n",
       "      <th>2015-01-06</th>\n",
       "      <td>2002.609985</td>\n",
       "    </tr>\n",
       "    <tr>\n",
       "      <th>2015-01-07</th>\n",
       "      <td>2025.900024</td>\n",
       "    </tr>\n",
       "    <tr>\n",
       "      <th>2015-01-08</th>\n",
       "      <td>2062.139893</td>\n",
       "    </tr>\n",
       "    <tr>\n",
       "      <th>...</th>\n",
       "      <td>...</td>\n",
       "    </tr>\n",
       "    <tr>\n",
       "      <th>2018-12-24</th>\n",
       "      <td>2351.100098</td>\n",
       "    </tr>\n",
       "    <tr>\n",
       "      <th>2018-12-26</th>\n",
       "      <td>2467.699951</td>\n",
       "    </tr>\n",
       "    <tr>\n",
       "      <th>2018-12-27</th>\n",
       "      <td>2488.830078</td>\n",
       "    </tr>\n",
       "    <tr>\n",
       "      <th>2018-12-28</th>\n",
       "      <td>2485.739990</td>\n",
       "    </tr>\n",
       "    <tr>\n",
       "      <th>2018-12-31</th>\n",
       "      <td>2506.850098</td>\n",
       "    </tr>\n",
       "  </tbody>\n",
       "</table>\n",
       "<p>1006 rows × 1 columns</p>\n",
       "</div>"
      ],
      "text/plain": [
       "                  sp500\n",
       "date                   \n",
       "2015-01-02  2058.199951\n",
       "2015-01-05  2020.579956\n",
       "2015-01-06  2002.609985\n",
       "2015-01-07  2025.900024\n",
       "2015-01-08  2062.139893\n",
       "...                 ...\n",
       "2018-12-24  2351.100098\n",
       "2018-12-26  2467.699951\n",
       "2018-12-27  2488.830078\n",
       "2018-12-28  2485.739990\n",
       "2018-12-31  2506.850098\n",
       "\n",
       "[1006 rows x 1 columns]"
      ]
     },
     "execution_count": 30,
     "metadata": {},
     "output_type": "execute_result"
    }
   ],
   "source": [
    "# lets compare our portfolio with sp500\n",
    "sp500_value = pd.read_excel(\"F:\\\\schulich\\\\datacamp\\\\python finance fundamentals\\\\6-Introduction to Portfolio Analysis in Python\\\\sp500_value.xlsx\",\n",
    "                             parse_dates=['date'], index_col='date')\n",
    "sp500_value"
   ]
  },
  {
   "cell_type": "code",
   "execution_count": 31,
   "metadata": {},
   "outputs": [
    {
     "data": {
      "text/plain": [
       "sp500    2020.579956\n",
       "Name: 2015-01-05 00:00:00, dtype: float64"
      ]
     },
     "execution_count": 31,
     "metadata": {},
     "output_type": "execute_result"
    }
   ],
   "source": [
    "sp500_value.iloc[1]"
   ]
  },
  {
   "cell_type": "code",
   "execution_count": 32,
   "metadata": {},
   "outputs": [
    {
     "data": {
      "text/plain": [
       "sp500    0.217982\n",
       "dtype: float64"
      ]
     },
     "execution_count": 32,
     "metadata": {},
     "output_type": "execute_result"
    }
   ],
   "source": [
    "# Calculate the total return from the S&P500 value series\n",
    "sp500_total_return = (sp500_value.iloc[-1] - sp500_value.iloc[0]) / sp500_value.iloc[0]\n",
    "sp500_total_return"
   ]
  },
  {
   "cell_type": "code",
   "execution_count": 33,
   "metadata": {},
   "outputs": [
    {
     "data": {
      "text/plain": [
       "sp500    0.050689\n",
       "dtype: float64"
      ]
     },
     "execution_count": 33,
     "metadata": {},
     "output_type": "execute_result"
    }
   ],
   "source": [
    "# let's annualize sp500_total return\n",
    "days_sp500_term = len(sp500_value.index)-1\n",
    "sp500_annualized_return =  ((1 + sp500_total_return)**(252/days_sp500_term))-1\n",
    "sp500_annualized_return"
   ]
  },
  {
   "cell_type": "code",
   "execution_count": 34,
   "metadata": {},
   "outputs": [
    {
     "name": "stdout",
     "output_type": "stream",
     "text": [
      "sp500    0.370949\n",
      "dtype: float64\n"
     ]
    }
   ],
   "source": [
    "# set risk free rate\n",
    "rfr = 0\n",
    "\n",
    "# Create the returns data \n",
    "returns_sp500 = sp500_value.pct_change()\n",
    "\n",
    "# Calculate annualized volatility from the standard deviation\n",
    "vol_sp500 = returns_sp500.std() * np.sqrt(252)\n",
    "\n",
    "# Calculate the Sharpe ratio \n",
    "sp500_sharpe_ratio = ((sp500_annualized_return - rfr) / vol_sp500)\n",
    "print (sp500_sharpe_ratio)"
   ]
  },
  {
   "cell_type": "code",
   "execution_count": 35,
   "metadata": {},
   "outputs": [
    {
     "name": "stdout",
     "output_type": "stream",
     "text": [
      "1.0062705357289916\n"
     ]
    }
   ],
   "source": [
    "# let's calculate the sharpe ratio of our portfoilo to compare it with market (sp500)\n",
    "\n",
    "# Calculate annualized volatility from the standard deviation\n",
    "vol_pf = (daily_returns['Portfolio'].std())*np.sqrt(252)\n",
    "\n",
    "# Calculate the Sharpe ratio \n",
    "sharpe_ratio = ((annualized_return - rfr) /vol_pf)\n",
    "print (sharpe_ratio)"
   ]
  },
  {
   "cell_type": "code",
   "execution_count": 36,
   "metadata": {},
   "outputs": [
    {
     "name": "stdout",
     "output_type": "stream",
     "text": [
      "mean_portfolio :  0.0007742352765097255 \n",
      " mean_sp500 :  sp500    0.000233\n",
      "dtype: float64\n",
      "vol_portfolio :  0.012284886584255066 \n",
      " vol_sp500 :  sp500    0.008608\n",
      "dtype: float64\n",
      "skewness_portfolio :  0.24634690384169433 \n",
      " skewness_sp500 :  sp500   -0.420932\n",
      "dtype: float64\n",
      "kurtosis_portfolio :  6.651785261134709 \n",
      " kurtosis_sp500 :  sp500    3.91036\n",
      "dtype: float64\n"
     ]
    }
   ],
   "source": [
    "# using standard deviation and return to assess portfolio is under this assumption that the return has a normal distributin\n",
    "# in fact assuming normal distribution, we use mean and stdev as our expected retuen and expected volatility.\n",
    "# but if it is not the case, meaning that the returns do not follow normal distribution, we can have cases where two\n",
    "# different distributions have the same mean and standard deviation, but one of them is riskier than the other. \n",
    "# in this situation we need to dig deeper and calculate the skewness and kurtosis \n",
    "# Print the mean\n",
    "print(\"mean_portfolio : \", daily_returns['Portfolio'].mean(), \n",
    "      \"\\n mean_sp500 : \", returns_sp500.mean())\n",
    "\n",
    "# Print the standard deviation\n",
    "print(\"vol_portfolio : \", daily_returns['Portfolio'].std(),\n",
    "      \"\\n vol_sp500 : \", returns_sp500.std())\n",
    "\n",
    "# Print the skewness\n",
    "print(\"skewness_portfolio : \", daily_returns['Portfolio'].skew(),\n",
    "      \"\\n skewness_sp500 : \", returns_sp500.skew())\n",
    "\n",
    "# Print the kurtosis\n",
    "print(\"kurtosis_portfolio : \", daily_returns['Portfolio'].kurtosis(),\n",
    "      \"\\n kurtosis_sp500 : \", returns_sp500.kurtosis())"
   ]
  },
  {
   "cell_type": "code",
   "execution_count": 37,
   "metadata": {},
   "outputs": [
    {
     "name": "stdout",
     "output_type": "stream",
     "text": [
      "Expected return  :  0.07742352765097255\n",
      "Downside risk   :  0.8909195993692571\n",
      "Sortino ratio :  0.08690293456983768\n"
     ]
    }
   ],
   "source": [
    "# there are also another ways to measure the risk of equity:\n",
    "# The Sortino ratio is just like the Sharpe ratio, except for that it uses the standard deviation of the negative \n",
    "# returns only(we can choose other ranges by defininf the value of target rate)\n",
    "# and thereby focuses more on the downside of investing \n",
    "\n",
    "# as we want to define the downside as negative retrurns we set target rate to zero\n",
    "target = 0\n",
    "\n",
    "#Create a downside return column with the negative returns only (we did not annualized returns for simplicity and did not\n",
    "# use geomean also for simplicity)\n",
    "downside_returns = daily_returns.loc[daily_returns['Portfolio'] < target]\n",
    "\n",
    "# Calculate expected return and std dev of downside\n",
    "expected_return = daily_returns['Portfolio'].mean()\n",
    "down_stdev = downside_returns['Portfolio'].std()\n",
    "\n",
    "# Calculate the sortino ratio\n",
    "sortino_ratio = (expected_return - rfr)/down_stdev\n",
    "\n",
    "# Print the results\n",
    "print(\"Expected return  : \", expected_return*100)\n",
    "print(\"Downside risk   : \", down_stdev*100)\n",
    "print(\"Sortino ratio : \", sortino_ratio)"
   ]
  },
  {
   "cell_type": "code",
   "execution_count": 38,
   "metadata": {},
   "outputs": [
    {
     "data": {
      "image/png": "[encoded data removed]",
      "text/plain": [
       "<Figure size 432x288 with 1 Axes>"
      ]
     },
     "metadata": {
      "needs_background": "light"
     },
     "output_type": "display_data"
    }
   ],
   "source": [
    "# In this exercise, you'll learn how to calculate the maximum draw-down of the S&P500 (also known as \"peak to trough \n",
    "# performance drop\"). Maximum draw-down is an incredibly insightful risk measure. It tells you what has been the worst\n",
    "# performance of the S&P500 in the past years.\n",
    "# It is the reason why many investors shy away from crypto-currencies; nobody likes to lose a large percentage of \n",
    "# their investment (e.g., 70%) in a short period.\n",
    "# lets calculate it for sp500\n",
    "\n",
    "# Calculate the max value \n",
    "roll_max = sp500_value.rolling(center=False,min_periods=1,window=252).max()\n",
    "\n",
    "plt.plot(sp500_value)\n",
    "plt.plot(roll_max)\n",
    "plt.xticks(rotation=90)\n",
    "plt.show()"
   ]
  },
  {
   "cell_type": "code",
   "execution_count": 39,
   "metadata": {},
   "outputs": [
    {
     "data": {
      "text/html": [
       "<div>\n",
       "<style scoped>\n",
       "    .dataframe tbody tr th:only-of-type {\n",
       "        vertical-align: middle;\n",
       "    }\n",
       "\n",
       "    .dataframe tbody tr th {\n",
       "        vertical-align: top;\n",
       "    }\n",
       "\n",
       "    .dataframe thead th {\n",
       "        text-align: right;\n",
       "    }\n",
       "</style>\n",
       "<table border=\"1\" class=\"dataframe\">\n",
       "  <thead>\n",
       "    <tr style=\"text-align: right;\">\n",
       "      <th></th>\n",
       "      <th>sp500</th>\n",
       "    </tr>\n",
       "    <tr>\n",
       "      <th>date</th>\n",
       "      <th></th>\n",
       "    </tr>\n",
       "  </thead>\n",
       "  <tbody>\n",
       "    <tr>\n",
       "      <th>2015-01-02</th>\n",
       "      <td>0.000000</td>\n",
       "    </tr>\n",
       "    <tr>\n",
       "      <th>2015-01-05</th>\n",
       "      <td>-0.018278</td>\n",
       "    </tr>\n",
       "    <tr>\n",
       "      <th>2015-01-06</th>\n",
       "      <td>-0.027009</td>\n",
       "    </tr>\n",
       "    <tr>\n",
       "      <th>2015-01-07</th>\n",
       "      <td>-0.015693</td>\n",
       "    </tr>\n",
       "    <tr>\n",
       "      <th>2015-01-08</th>\n",
       "      <td>0.000000</td>\n",
       "    </tr>\n",
       "    <tr>\n",
       "      <th>...</th>\n",
       "      <td>...</td>\n",
       "    </tr>\n",
       "    <tr>\n",
       "      <th>2018-12-24</th>\n",
       "      <td>-0.197782</td>\n",
       "    </tr>\n",
       "    <tr>\n",
       "      <th>2018-12-26</th>\n",
       "      <td>-0.157997</td>\n",
       "    </tr>\n",
       "    <tr>\n",
       "      <th>2018-12-27</th>\n",
       "      <td>-0.150787</td>\n",
       "    </tr>\n",
       "    <tr>\n",
       "      <th>2018-12-28</th>\n",
       "      <td>-0.151842</td>\n",
       "    </tr>\n",
       "    <tr>\n",
       "      <th>2018-12-31</th>\n",
       "      <td>-0.144639</td>\n",
       "    </tr>\n",
       "  </tbody>\n",
       "</table>\n",
       "<p>1006 rows × 1 columns</p>\n",
       "</div>"
      ],
      "text/plain": [
       "               sp500\n",
       "date                \n",
       "2015-01-02  0.000000\n",
       "2015-01-05 -0.018278\n",
       "2015-01-06 -0.027009\n",
       "2015-01-07 -0.015693\n",
       "2015-01-08  0.000000\n",
       "...              ...\n",
       "2018-12-24 -0.197782\n",
       "2018-12-26 -0.157997\n",
       "2018-12-27 -0.150787\n",
       "2018-12-28 -0.151842\n",
       "2018-12-31 -0.144639\n",
       "\n",
       "[1006 rows x 1 columns]"
      ]
     },
     "execution_count": 39,
     "metadata": {},
     "output_type": "execute_result"
    }
   ],
   "source": [
    "# Calculate the daily draw-down relative to the max\n",
    "daily_draw_down = sp500_value/roll_max - 1.0\n",
    "daily_draw_down"
   ]
  },
  {
   "cell_type": "code",
   "execution_count": 40,
   "metadata": {},
   "outputs": [
    {
     "data": {
      "text/html": [
       "<div>\n",
       "<style scoped>\n",
       "    .dataframe tbody tr th:only-of-type {\n",
       "        vertical-align: middle;\n",
       "    }\n",
       "\n",
       "    .dataframe tbody tr th {\n",
       "        vertical-align: top;\n",
       "    }\n",
       "\n",
       "    .dataframe thead th {\n",
       "        text-align: right;\n",
       "    }\n",
       "</style>\n",
       "<table border=\"1\" class=\"dataframe\">\n",
       "  <thead>\n",
       "    <tr style=\"text-align: right;\">\n",
       "      <th></th>\n",
       "      <th>sp500</th>\n",
       "    </tr>\n",
       "    <tr>\n",
       "      <th>date</th>\n",
       "      <th></th>\n",
       "    </tr>\n",
       "  </thead>\n",
       "  <tbody>\n",
       "    <tr>\n",
       "      <th>2015-01-02</th>\n",
       "      <td>0.000000</td>\n",
       "    </tr>\n",
       "    <tr>\n",
       "      <th>2015-01-05</th>\n",
       "      <td>-0.018278</td>\n",
       "    </tr>\n",
       "    <tr>\n",
       "      <th>2015-01-06</th>\n",
       "      <td>-0.027009</td>\n",
       "    </tr>\n",
       "    <tr>\n",
       "      <th>2015-01-07</th>\n",
       "      <td>-0.027009</td>\n",
       "    </tr>\n",
       "    <tr>\n",
       "      <th>2015-01-08</th>\n",
       "      <td>-0.027009</td>\n",
       "    </tr>\n",
       "    <tr>\n",
       "      <th>...</th>\n",
       "      <td>...</td>\n",
       "    </tr>\n",
       "    <tr>\n",
       "      <th>2018-12-24</th>\n",
       "      <td>-0.197782</td>\n",
       "    </tr>\n",
       "    <tr>\n",
       "      <th>2018-12-26</th>\n",
       "      <td>-0.197782</td>\n",
       "    </tr>\n",
       "    <tr>\n",
       "      <th>2018-12-27</th>\n",
       "      <td>-0.197782</td>\n",
       "    </tr>\n",
       "    <tr>\n",
       "      <th>2018-12-28</th>\n",
       "      <td>-0.197782</td>\n",
       "    </tr>\n",
       "    <tr>\n",
       "      <th>2018-12-31</th>\n",
       "      <td>-0.197782</td>\n",
       "    </tr>\n",
       "  </tbody>\n",
       "</table>\n",
       "<p>1006 rows × 1 columns</p>\n",
       "</div>"
      ],
      "text/plain": [
       "               sp500\n",
       "date                \n",
       "2015-01-02  0.000000\n",
       "2015-01-05 -0.018278\n",
       "2015-01-06 -0.027009\n",
       "2015-01-07 -0.027009\n",
       "2015-01-08 -0.027009\n",
       "...              ...\n",
       "2018-12-24 -0.197782\n",
       "2018-12-26 -0.197782\n",
       "2018-12-27 -0.197782\n",
       "2018-12-28 -0.197782\n",
       "2018-12-31 -0.197782\n",
       "\n",
       "[1006 rows x 1 columns]"
      ]
     },
     "execution_count": 40,
     "metadata": {},
     "output_type": "execute_result"
    }
   ],
   "source": [
    "# Calculate the minimum (negative) daily draw-down\n",
    "max_daily_draw_down = daily_draw_down.rolling(center=False,min_periods=1,window=252).min()\n",
    "max_daily_draw_down"
   ]
  },
  {
   "cell_type": "code",
   "execution_count": 41,
   "metadata": {
    "scrolled": true
   },
   "outputs": [
    {
     "data": {
      "image/png": "[encoded data removed]",
      "text/plain": [
       "<Figure size 432x288 with 1 Axes>"
      ]
     },
     "metadata": {
      "needs_background": "light"
     },
     "output_type": "display_data"
    }
   ],
   "source": [
    "# Plot the results\n",
    "plt.plot(daily_draw_down, label='Daily drawdown')\n",
    "plt.plot(max_daily_draw_down, label='Maximum daily drawdown in time-window')\n",
    "plt.legend()\n",
    "plt.xticks(rotation=90)\n",
    "plt.show()\n"
   ]
  },
  {
   "cell_type": "code",
   "execution_count": 42,
   "metadata": {},
   "outputs": [
    {
     "data": {
      "text/html": [
       "<div>\n",
       "<style scoped>\n",
       "    .dataframe tbody tr th:only-of-type {\n",
       "        vertical-align: middle;\n",
       "    }\n",
       "\n",
       "    .dataframe tbody tr th {\n",
       "        vertical-align: top;\n",
       "    }\n",
       "\n",
       "    .dataframe thead th {\n",
       "        text-align: right;\n",
       "    }\n",
       "</style>\n",
       "<table border=\"1\" class=\"dataframe\">\n",
       "  <thead>\n",
       "    <tr style=\"text-align: right;\">\n",
       "      <th></th>\n",
       "      <th>mean_return</th>\n",
       "      <th>variance</th>\n",
       "      <th>pf_weights</th>\n",
       "      <th>bm_weights</th>\n",
       "      <th>Security</th>\n",
       "      <th>GICS Sector</th>\n",
       "      <th>GICS Sub Industry</th>\n",
       "    </tr>\n",
       "    <tr>\n",
       "      <th>ticker</th>\n",
       "      <th></th>\n",
       "      <th></th>\n",
       "      <th></th>\n",
       "      <th></th>\n",
       "      <th></th>\n",
       "      <th></th>\n",
       "      <th></th>\n",
       "    </tr>\n",
       "  </thead>\n",
       "  <tbody>\n",
       "    <tr>\n",
       "      <th>A</th>\n",
       "      <td>0.146146</td>\n",
       "      <td>0.035194</td>\n",
       "      <td>0.000</td>\n",
       "      <td>0.0</td>\n",
       "      <td>Agilent Technologies Inc</td>\n",
       "      <td>Health Care</td>\n",
       "      <td>Health Care Equipment</td>\n",
       "    </tr>\n",
       "    <tr>\n",
       "      <th>AAL</th>\n",
       "      <td>0.444411</td>\n",
       "      <td>0.094328</td>\n",
       "      <td>0.214</td>\n",
       "      <td>0.0</td>\n",
       "      <td>American Airlines Group</td>\n",
       "      <td>Industrials</td>\n",
       "      <td>Airlines</td>\n",
       "    </tr>\n",
       "    <tr>\n",
       "      <th>AAP</th>\n",
       "      <td>0.242189</td>\n",
       "      <td>0.029633</td>\n",
       "      <td>0.000</td>\n",
       "      <td>0.0</td>\n",
       "      <td>Advance Auto Parts</td>\n",
       "      <td>Consumer Discretionary</td>\n",
       "      <td>Automotive Retail</td>\n",
       "    </tr>\n",
       "    <tr>\n",
       "      <th>AAPL</th>\n",
       "      <td>0.225074</td>\n",
       "      <td>0.027283</td>\n",
       "      <td>0.000</td>\n",
       "      <td>0.0</td>\n",
       "      <td>Apple Inc.</td>\n",
       "      <td>Information Technology</td>\n",
       "      <td>Computer Hardware</td>\n",
       "    </tr>\n",
       "    <tr>\n",
       "      <th>ABBV</th>\n",
       "      <td>0.182541</td>\n",
       "      <td>0.029926</td>\n",
       "      <td>0.000</td>\n",
       "      <td>0.0</td>\n",
       "      <td>AbbVie</td>\n",
       "      <td>Health Care</td>\n",
       "      <td>Pharmaceuticals</td>\n",
       "    </tr>\n",
       "  </tbody>\n",
       "</table>\n",
       "</div>"
      ],
      "text/plain": [
       "        mean_return  variance  pf_weights  bm_weights  \\\n",
       "ticker                                                  \n",
       "A          0.146146  0.035194       0.000         0.0   \n",
       "AAL        0.444411  0.094328       0.214         0.0   \n",
       "AAP        0.242189  0.029633       0.000         0.0   \n",
       "AAPL       0.225074  0.027283       0.000         0.0   \n",
       "ABBV       0.182541  0.029926       0.000         0.0   \n",
       "\n",
       "                        Security             GICS Sector  \\\n",
       "ticker                                                     \n",
       "A       Agilent Technologies Inc             Health Care   \n",
       "AAL      American Airlines Group             Industrials   \n",
       "AAP           Advance Auto Parts  Consumer Discretionary   \n",
       "AAPL                  Apple Inc.  Information Technology   \n",
       "ABBV                      AbbVie             Health Care   \n",
       "\n",
       "            GICS Sub Industry  \n",
       "ticker                         \n",
       "A       Health Care Equipment  \n",
       "AAL                  Airlines  \n",
       "AAP         Automotive Retail  \n",
       "AAPL        Computer Hardware  \n",
       "ABBV          Pharmaceuticals  "
      ]
     },
     "execution_count": 42,
     "metadata": {},
     "output_type": "execute_result"
    }
   ],
   "source": [
    "# portfolio performance\n",
    "# lets compare our portfolio with sp500\n",
    "portfolio_data = pd.read_excel(\"F:\\\\schulich\\\\datacamp\\\\python finance fundamentals\\\\6-Introduction to Portfolio Analysis in Python\\\\portfolio_and_benchmark.xlsx\"\n",
    "                               ,index_col='ticker')\n",
    "portfolio_data.head()"
   ]
  },
  {
   "cell_type": "code",
   "execution_count": 43,
   "metadata": {},
   "outputs": [
    {
     "data": {
      "text/plain": [
       "33.134016088"
      ]
     },
     "execution_count": 43,
     "metadata": {},
     "output_type": "execute_result"
    }
   ],
   "source": [
    "# Calculate return of the portfolio\n",
    "total_return_pf = (portfolio_data['mean_return']*portfolio_data['pf_weights']).sum()\n",
    "total_return_pf"
   ]
  },
  {
   "cell_type": "code",
   "execution_count": 44,
   "metadata": {},
   "outputs": [
    {
     "data": {
      "text/plain": [
       "10.557641345"
      ]
     },
     "execution_count": 44,
     "metadata": {},
     "output_type": "execute_result"
    }
   ],
   "source": [
    "# Calculate return of the benchmark\n",
    "total_return_bm = (portfolio_data['bm_weights']*portfolio_data['mean_return']).sum()\n",
    "total_return_bm"
   ]
  },
  {
   "cell_type": "code",
   "execution_count": 45,
   "metadata": {},
   "outputs": [
    {
     "name": "stdout",
     "output_type": "stream",
     "text": [
      "22.58%\n"
     ]
    }
   ],
   "source": [
    "# Calculate and print the active return\n",
    "active_return = total_return_pf - total_return_bm\n",
    "print (\"%.2f%%\" % active_return)"
   ]
  },
  {
   "cell_type": "code",
   "execution_count": 46,
   "metadata": {},
   "outputs": [
    {
     "data": {
      "text/html": [
       "<div>\n",
       "<style scoped>\n",
       "    .dataframe tbody tr th:only-of-type {\n",
       "        vertical-align: middle;\n",
       "    }\n",
       "\n",
       "    .dataframe tbody tr th {\n",
       "        vertical-align: top;\n",
       "    }\n",
       "\n",
       "    .dataframe thead th {\n",
       "        text-align: right;\n",
       "    }\n",
       "</style>\n",
       "<table border=\"1\" class=\"dataframe\">\n",
       "  <thead>\n",
       "    <tr style=\"text-align: right;\">\n",
       "      <th></th>\n",
       "      <th>mean_return</th>\n",
       "      <th>variance</th>\n",
       "      <th>pf_weights</th>\n",
       "      <th>bm_weights</th>\n",
       "    </tr>\n",
       "    <tr>\n",
       "      <th>GICS Sector</th>\n",
       "      <th></th>\n",
       "      <th></th>\n",
       "      <th></th>\n",
       "      <th></th>\n",
       "    </tr>\n",
       "  </thead>\n",
       "  <tbody>\n",
       "    <tr>\n",
       "      <th>Consumer Discretionary</th>\n",
       "      <td>14.091952</td>\n",
       "      <td>3.011994</td>\n",
       "      <td>32.426</td>\n",
       "      <td>12.169</td>\n",
       "    </tr>\n",
       "    <tr>\n",
       "      <th>Consumer Staples</th>\n",
       "      <td>5.131284</td>\n",
       "      <td>0.639847</td>\n",
       "      <td>24.551</td>\n",
       "      <td>29.727</td>\n",
       "    </tr>\n",
       "    <tr>\n",
       "      <th>Energy</th>\n",
       "      <td>3.390600</td>\n",
       "      <td>1.897643</td>\n",
       "      <td>0.000</td>\n",
       "      <td>0.000</td>\n",
       "    </tr>\n",
       "    <tr>\n",
       "      <th>Financials</th>\n",
       "      <td>8.701435</td>\n",
       "      <td>1.879874</td>\n",
       "      <td>0.000</td>\n",
       "      <td>2.116</td>\n",
       "    </tr>\n",
       "    <tr>\n",
       "      <th>Health Care</th>\n",
       "      <td>10.747579</td>\n",
       "      <td>2.349867</td>\n",
       "      <td>11.964</td>\n",
       "      <td>9.099</td>\n",
       "    </tr>\n",
       "    <tr>\n",
       "      <th>Industrials</th>\n",
       "      <td>11.336990</td>\n",
       "      <td>2.240227</td>\n",
       "      <td>14.142</td>\n",
       "      <td>11.677</td>\n",
       "    </tr>\n",
       "    <tr>\n",
       "      <th>Information Technology</th>\n",
       "      <td>11.217114</td>\n",
       "      <td>2.651297</td>\n",
       "      <td>14.903</td>\n",
       "      <td>6.210</td>\n",
       "    </tr>\n",
       "    <tr>\n",
       "      <th>Materials</th>\n",
       "      <td>3.033815</td>\n",
       "      <td>0.877749</td>\n",
       "      <td>0.000</td>\n",
       "      <td>2.043</td>\n",
       "    </tr>\n",
       "    <tr>\n",
       "      <th>Real Estate</th>\n",
       "      <td>3.959113</td>\n",
       "      <td>0.728885</td>\n",
       "      <td>2.014</td>\n",
       "      <td>0.000</td>\n",
       "    </tr>\n",
       "    <tr>\n",
       "      <th>Telecommunications Services</th>\n",
       "      <td>0.270627</td>\n",
       "      <td>0.158655</td>\n",
       "      <td>0.000</td>\n",
       "      <td>1.367</td>\n",
       "    </tr>\n",
       "    <tr>\n",
       "      <th>Utilities</th>\n",
       "      <td>2.461861</td>\n",
       "      <td>0.401864</td>\n",
       "      <td>0.000</td>\n",
       "      <td>25.593</td>\n",
       "    </tr>\n",
       "  </tbody>\n",
       "</table>\n",
       "</div>"
      ],
      "text/plain": [
       "                             mean_return  variance  pf_weights  bm_weights\n",
       "GICS Sector                                                               \n",
       "Consumer Discretionary         14.091952  3.011994      32.426      12.169\n",
       "Consumer Staples                5.131284  0.639847      24.551      29.727\n",
       "Energy                          3.390600  1.897643       0.000       0.000\n",
       "Financials                      8.701435  1.879874       0.000       2.116\n",
       "Health Care                    10.747579  2.349867      11.964       9.099\n",
       "Industrials                    11.336990  2.240227      14.142      11.677\n",
       "Information Technology         11.217114  2.651297      14.903       6.210\n",
       "Materials                       3.033815  0.877749       0.000       2.043\n",
       "Real Estate                     3.959113  0.728885       2.014       0.000\n",
       "Telecommunications Services     0.270627  0.158655       0.000       1.367\n",
       "Utilities                       2.461861  0.401864       0.000      25.593"
      ]
     },
     "execution_count": 46,
     "metadata": {},
     "output_type": "execute_result"
    }
   ],
   "source": [
    "# Industry attribution\n",
    "# In this exercise, you're going to calculate the relative industry position of your portfolio, versus a benchmark.\n",
    "# As a portfolio manager you need to understand your portfolio's underweight and overweight positions (or \"industry bets\"),\n",
    "# as they are a large driver of performance, as well as a potential source of risk.\n",
    "\n",
    "\n",
    "# Group dataframe by GICS sectors \n",
    "grouped_df=portfolio_data.groupby('GICS Sector').sum()\n",
    "grouped_df"
   ]
  },
  {
   "cell_type": "code",
   "execution_count": 47,
   "metadata": {},
   "outputs": [
    {
     "data": {
      "text/plain": [
       "GICS Sector\n",
       "Consumer Discretionary         20.257\n",
       "Consumer Staples               -5.176\n",
       "Energy                          0.000\n",
       "Financials                     -2.116\n",
       "Health Care                     2.865\n",
       "Industrials                     2.465\n",
       "Information Technology          8.693\n",
       "Materials                      -2.043\n",
       "Real Estate                     2.014\n",
       "Telecommunications Services    -1.367\n",
       "Utilities                     -25.593\n",
       "Name: active_weight, dtype: float64"
      ]
     },
     "execution_count": 47,
     "metadata": {},
     "output_type": "execute_result"
    }
   ],
   "source": [
    "# Calculate active weights of portfolio\n",
    "grouped_df['active_weight']=grouped_df['pf_weights']-grouped_df['bm_weights']\n",
    "grouped_df['active_weight']"
   ]
  },
  {
   "cell_type": "code",
   "execution_count": 48,
   "metadata": {},
   "outputs": [
    {
     "data": {
      "text/html": [
       "<div>\n",
       "<style scoped>\n",
       "    .dataframe tbody tr th:only-of-type {\n",
       "        vertical-align: middle;\n",
       "    }\n",
       "\n",
       "    .dataframe tbody tr th {\n",
       "        vertical-align: top;\n",
       "    }\n",
       "\n",
       "    .dataframe thead th {\n",
       "        text-align: right;\n",
       "    }\n",
       "</style>\n",
       "<table border=\"1\" class=\"dataframe\">\n",
       "  <thead>\n",
       "    <tr style=\"text-align: right;\">\n",
       "      <th></th>\n",
       "      <th>sp500</th>\n",
       "      <th>momentum</th>\n",
       "      <th>value</th>\n",
       "    </tr>\n",
       "    <tr>\n",
       "      <th>date</th>\n",
       "      <th></th>\n",
       "      <th></th>\n",
       "      <th></th>\n",
       "    </tr>\n",
       "  </thead>\n",
       "  <tbody>\n",
       "    <tr>\n",
       "      <th>2015-01-02</th>\n",
       "      <td>NaN</td>\n",
       "      <td>-0.11</td>\n",
       "      <td>-0.18</td>\n",
       "    </tr>\n",
       "    <tr>\n",
       "      <th>2015-01-05</th>\n",
       "      <td>-1.827811</td>\n",
       "      <td>1.02</td>\n",
       "      <td>-1.76</td>\n",
       "    </tr>\n",
       "    <tr>\n",
       "      <th>2015-01-06</th>\n",
       "      <td>-0.889347</td>\n",
       "      <td>0.41</td>\n",
       "      <td>-0.82</td>\n",
       "    </tr>\n",
       "    <tr>\n",
       "      <th>2015-01-07</th>\n",
       "      <td>1.162984</td>\n",
       "      <td>1.07</td>\n",
       "      <td>1.39</td>\n",
       "    </tr>\n",
       "    <tr>\n",
       "      <th>2015-01-08</th>\n",
       "      <td>1.788828</td>\n",
       "      <td>0.31</td>\n",
       "      <td>1.93</td>\n",
       "    </tr>\n",
       "  </tbody>\n",
       "</table>\n",
       "</div>"
      ],
      "text/plain": [
       "               sp500  momentum  value\n",
       "date                                 \n",
       "2015-01-02       NaN     -0.11  -0.18\n",
       "2015-01-05 -1.827811      1.02  -1.76\n",
       "2015-01-06 -0.889347      0.41  -0.82\n",
       "2015-01-07  1.162984      1.07   1.39\n",
       "2015-01-08  1.788828      0.31   1.93"
      ]
     },
     "execution_count": 48,
     "metadata": {},
     "output_type": "execute_result"
    }
   ],
   "source": [
    "# factors:\n",
    "# there are some factors that can determine the return of a stock or portfolio, for example: size, vlaue, momentum\n",
    "# size: it has been empirically obsereved the small size companies have higher return. 𝑺𝑴𝑩=𝑅𝑆−𝑅𝐵. so we expect that if\n",
    "# we do the correlation between sp500 return and size we see a negative correlation since sp500 has more large size stocks.\n",
    "# A stock is showing \"momentum\" if its prior 12-month average of returns is positive. The momentum factor is therefore\n",
    "# formed by combining stocks that show consistent positive historic returns. The value factor looks at stocks that are\n",
    "# inexpensive relative to some measure of fundamental value. For example price-to-earnings and price-to-book are \n",
    "# typically ratios to measure \"value\". \n",
    "\n",
    "# Let's see how our S&P500 returns relate to the returns of these factors.\n",
    "# lets compare our portfolio with sp500\n",
    "df = pd.read_excel(\"F:\\\\schulich\\\\datacamp\\\\python finance fundamentals\\\\6-Introduction to Portfolio Analysis in Python\\\\value and momentum factor.xlsx\",\n",
    "                             parse_dates=['date'], index_col='date')\n",
    "df.head()"
   ]
  },
  {
   "cell_type": "code",
   "execution_count": 49,
   "metadata": {},
   "outputs": [],
   "source": [
    "# Calculate 20-day rolling correlation with momentum \n",
    "df['correlation_mom']=df['sp500'].rolling(20).corr(df['momentum'])"
   ]
  },
  {
   "cell_type": "code",
   "execution_count": 50,
   "metadata": {},
   "outputs": [],
   "source": [
    "# Calculate 20-day rolling correlation with value\n",
    "df['correlation_value']=df['sp500'].rolling(20).corr(df['value'])"
   ]
  },
  {
   "cell_type": "code",
   "execution_count": 51,
   "metadata": {},
   "outputs": [
    {
     "data": {
      "text/html": [
       "<div>\n",
       "<style scoped>\n",
       "    .dataframe tbody tr th:only-of-type {\n",
       "        vertical-align: middle;\n",
       "    }\n",
       "\n",
       "    .dataframe tbody tr th {\n",
       "        vertical-align: top;\n",
       "    }\n",
       "\n",
       "    .dataframe thead th {\n",
       "        text-align: right;\n",
       "    }\n",
       "</style>\n",
       "<table border=\"1\" class=\"dataframe\">\n",
       "  <thead>\n",
       "    <tr style=\"text-align: right;\">\n",
       "      <th></th>\n",
       "      <th>sp500</th>\n",
       "      <th>momentum</th>\n",
       "      <th>value</th>\n",
       "      <th>correlation_mom</th>\n",
       "      <th>correlation_value</th>\n",
       "    </tr>\n",
       "    <tr>\n",
       "      <th>date</th>\n",
       "      <th></th>\n",
       "      <th></th>\n",
       "      <th></th>\n",
       "      <th></th>\n",
       "      <th></th>\n",
       "    </tr>\n",
       "  </thead>\n",
       "  <tbody>\n",
       "    <tr>\n",
       "      <th>2015-01-02</th>\n",
       "      <td>NaN</td>\n",
       "      <td>-0.11</td>\n",
       "      <td>-0.18</td>\n",
       "      <td>NaN</td>\n",
       "      <td>NaN</td>\n",
       "    </tr>\n",
       "    <tr>\n",
       "      <th>2015-01-05</th>\n",
       "      <td>-1.827811</td>\n",
       "      <td>1.02</td>\n",
       "      <td>-1.76</td>\n",
       "      <td>NaN</td>\n",
       "      <td>NaN</td>\n",
       "    </tr>\n",
       "    <tr>\n",
       "      <th>2015-01-06</th>\n",
       "      <td>-0.889347</td>\n",
       "      <td>0.41</td>\n",
       "      <td>-0.82</td>\n",
       "      <td>NaN</td>\n",
       "      <td>NaN</td>\n",
       "    </tr>\n",
       "    <tr>\n",
       "      <th>2015-01-07</th>\n",
       "      <td>1.162984</td>\n",
       "      <td>1.07</td>\n",
       "      <td>1.39</td>\n",
       "      <td>NaN</td>\n",
       "      <td>NaN</td>\n",
       "    </tr>\n",
       "    <tr>\n",
       "      <th>2015-01-08</th>\n",
       "      <td>1.788828</td>\n",
       "      <td>0.31</td>\n",
       "      <td>1.93</td>\n",
       "      <td>NaN</td>\n",
       "      <td>NaN</td>\n",
       "    </tr>\n",
       "    <tr>\n",
       "      <th>...</th>\n",
       "      <td>...</td>\n",
       "      <td>...</td>\n",
       "      <td>...</td>\n",
       "      <td>...</td>\n",
       "      <td>...</td>\n",
       "    </tr>\n",
       "    <tr>\n",
       "      <th>2019-03-13</th>\n",
       "      <td>0.694958</td>\n",
       "      <td>-0.13</td>\n",
       "      <td>0.66</td>\n",
       "      <td>-0.515344</td>\n",
       "      <td>0.983573</td>\n",
       "    </tr>\n",
       "    <tr>\n",
       "      <th>2019-03-14</th>\n",
       "      <td>-0.086802</td>\n",
       "      <td>0.39</td>\n",
       "      <td>-0.12</td>\n",
       "      <td>-0.517349</td>\n",
       "      <td>0.984172</td>\n",
       "    </tr>\n",
       "    <tr>\n",
       "      <th>2019-03-15</th>\n",
       "      <td>0.498490</td>\n",
       "      <td>0.06</td>\n",
       "      <td>0.72</td>\n",
       "      <td>-0.505921</td>\n",
       "      <td>0.981358</td>\n",
       "    </tr>\n",
       "    <tr>\n",
       "      <th>2019-03-18</th>\n",
       "      <td>0.370595</td>\n",
       "      <td>-0.45</td>\n",
       "      <td>0.57</td>\n",
       "      <td>-0.433532</td>\n",
       "      <td>0.981631</td>\n",
       "    </tr>\n",
       "    <tr>\n",
       "      <th>2019-03-19</th>\n",
       "      <td>-0.013056</td>\n",
       "      <td>0.44</td>\n",
       "      <td>0.03</td>\n",
       "      <td>-0.438322</td>\n",
       "      <td>0.982561</td>\n",
       "    </tr>\n",
       "  </tbody>\n",
       "</table>\n",
       "<p>1059 rows × 5 columns</p>\n",
       "</div>"
      ],
      "text/plain": [
       "               sp500  momentum  value  correlation_mom  correlation_value\n",
       "date                                                                     \n",
       "2015-01-02       NaN     -0.11  -0.18              NaN                NaN\n",
       "2015-01-05 -1.827811      1.02  -1.76              NaN                NaN\n",
       "2015-01-06 -0.889347      0.41  -0.82              NaN                NaN\n",
       "2015-01-07  1.162984      1.07   1.39              NaN                NaN\n",
       "2015-01-08  1.788828      0.31   1.93              NaN                NaN\n",
       "...              ...       ...    ...              ...                ...\n",
       "2019-03-13  0.694958     -0.13   0.66        -0.515344           0.983573\n",
       "2019-03-14 -0.086802      0.39  -0.12        -0.517349           0.984172\n",
       "2019-03-15  0.498490      0.06   0.72        -0.505921           0.981358\n",
       "2019-03-18  0.370595     -0.45   0.57        -0.433532           0.981631\n",
       "2019-03-19 -0.013056      0.44   0.03        -0.438322           0.982561\n",
       "\n",
       "[1059 rows x 5 columns]"
      ]
     },
     "execution_count": 51,
     "metadata": {},
     "output_type": "execute_result"
    }
   ],
   "source": [
    "df"
   ]
  },
  {
   "cell_type": "code",
   "execution_count": 52,
   "metadata": {},
   "outputs": [
    {
     "data": {
      "image/png": "[encoded data removed]",
      "text/plain": [
       "<Figure size 432x288 with 1 Axes>"
      ]
     },
     "metadata": {
      "needs_background": "light"
     },
     "output_type": "display_data"
    }
   ],
   "source": [
    "# Plot the correlations\n",
    "df['correlation_mom'].plot()\n",
    "df['correlation_value'].plot()\n",
    "plt.legend()\n",
    "plt.show()\n",
    "\n",
    "# you've looked at the S&P500 exposures, and see that there is a large consistent exposure to the value factor,\n",
    "# but a very fluctuating correlation to momentum."
   ]
  },
  {
   "cell_type": "code",
   "execution_count": 53,
   "metadata": {},
   "outputs": [
    {
     "data": {
      "text/html": [
       "<div>\n",
       "<style scoped>\n",
       "    .dataframe tbody tr th:only-of-type {\n",
       "        vertical-align: middle;\n",
       "    }\n",
       "\n",
       "    .dataframe tbody tr th {\n",
       "        vertical-align: top;\n",
       "    }\n",
       "\n",
       "    .dataframe thead th {\n",
       "        text-align: right;\n",
       "    }\n",
       "</style>\n",
       "<table border=\"1\" class=\"dataframe\">\n",
       "  <thead>\n",
       "    <tr style=\"text-align: right;\">\n",
       "      <th></th>\n",
       "      <th>momentum</th>\n",
       "      <th>value</th>\n",
       "      <th>portfolio</th>\n",
       "    </tr>\n",
       "    <tr>\n",
       "      <th>date</th>\n",
       "      <th></th>\n",
       "      <th></th>\n",
       "      <th></th>\n",
       "    </tr>\n",
       "  </thead>\n",
       "  <tbody>\n",
       "    <tr>\n",
       "      <th>2016-01-04</th>\n",
       "      <td>-1.69</td>\n",
       "      <td>-1.53</td>\n",
       "      <td>-1.651745</td>\n",
       "    </tr>\n",
       "    <tr>\n",
       "      <th>2016-01-05</th>\n",
       "      <td>0.38</td>\n",
       "      <td>0.10</td>\n",
       "      <td>0.408161</td>\n",
       "    </tr>\n",
       "    <tr>\n",
       "      <th>2016-01-06</th>\n",
       "      <td>1.27</td>\n",
       "      <td>-1.22</td>\n",
       "      <td>0.325555</td>\n",
       "    </tr>\n",
       "    <tr>\n",
       "      <th>2016-01-07</th>\n",
       "      <td>0.21</td>\n",
       "      <td>-2.38</td>\n",
       "      <td>-0.698259</td>\n",
       "    </tr>\n",
       "    <tr>\n",
       "      <th>2016-01-08</th>\n",
       "      <td>-0.20</td>\n",
       "      <td>-0.91</td>\n",
       "      <td>-0.959352</td>\n",
       "    </tr>\n",
       "    <tr>\n",
       "      <th>...</th>\n",
       "      <td>...</td>\n",
       "      <td>...</td>\n",
       "      <td>...</td>\n",
       "    </tr>\n",
       "    <tr>\n",
       "      <th>2016-12-23</th>\n",
       "      <td>-0.35</td>\n",
       "      <td>0.07</td>\n",
       "      <td>0.438153</td>\n",
       "    </tr>\n",
       "    <tr>\n",
       "      <th>2016-12-27</th>\n",
       "      <td>0.14</td>\n",
       "      <td>0.27</td>\n",
       "      <td>0.430411</td>\n",
       "    </tr>\n",
       "    <tr>\n",
       "      <th>2016-12-28</th>\n",
       "      <td>0.08</td>\n",
       "      <td>-0.69</td>\n",
       "      <td>-0.903525</td>\n",
       "    </tr>\n",
       "    <tr>\n",
       "      <th>2016-12-29</th>\n",
       "      <td>0.02</td>\n",
       "      <td>0.00</td>\n",
       "      <td>0.235954</td>\n",
       "    </tr>\n",
       "    <tr>\n",
       "      <th>2016-12-30</th>\n",
       "      <td>-0.21</td>\n",
       "      <td>-0.65</td>\n",
       "      <td>-0.805551</td>\n",
       "    </tr>\n",
       "  </tbody>\n",
       "</table>\n",
       "<p>252 rows × 3 columns</p>\n",
       "</div>"
      ],
      "text/plain": [
       "            momentum  value  portfolio\n",
       "date                                  \n",
       "2016-01-04     -1.69  -1.53  -1.651745\n",
       "2016-01-05      0.38   0.10   0.408161\n",
       "2016-01-06      1.27  -1.22   0.325555\n",
       "2016-01-07      0.21  -2.38  -0.698259\n",
       "2016-01-08     -0.20  -0.91  -0.959352\n",
       "...              ...    ...        ...\n",
       "2016-12-23     -0.35   0.07   0.438153\n",
       "2016-12-27      0.14   0.27   0.430411\n",
       "2016-12-28      0.08  -0.69  -0.903525\n",
       "2016-12-29      0.02   0.00   0.235954\n",
       "2016-12-30     -0.21  -0.65  -0.805551\n",
       "\n",
       "[252 rows x 3 columns]"
      ]
     },
     "execution_count": 53,
     "metadata": {},
     "output_type": "execute_result"
    }
   ],
   "source": [
    "# lets see the correlation with our portfolio\n",
    "factor_data = pd.read_excel(\"F:\\\\schulich\\\\datacamp\\\\python finance fundamentals\\\\6-Introduction to Portfolio Analysis in Python\\\\portfolio and factors.xlsx\",\n",
    "                             parse_dates=['date'], index_col='date')\n",
    "factor_data"
   ]
  },
  {
   "cell_type": "code",
   "execution_count": 54,
   "metadata": {},
   "outputs": [
    {
     "data": {
      "text/html": [
       "<div>\n",
       "<style scoped>\n",
       "    .dataframe tbody tr th:only-of-type {\n",
       "        vertical-align: middle;\n",
       "    }\n",
       "\n",
       "    .dataframe tbody tr th {\n",
       "        vertical-align: top;\n",
       "    }\n",
       "\n",
       "    .dataframe thead th {\n",
       "        text-align: right;\n",
       "    }\n",
       "</style>\n",
       "<table border=\"1\" class=\"dataframe\">\n",
       "  <thead>\n",
       "    <tr style=\"text-align: right;\">\n",
       "      <th></th>\n",
       "      <th>momentum</th>\n",
       "      <th>value</th>\n",
       "      <th>portfolio</th>\n",
       "    </tr>\n",
       "  </thead>\n",
       "  <tbody>\n",
       "    <tr>\n",
       "      <th>momentum</th>\n",
       "      <td>1.000000</td>\n",
       "      <td>-0.363237</td>\n",
       "      <td>0.001012</td>\n",
       "    </tr>\n",
       "    <tr>\n",
       "      <th>value</th>\n",
       "      <td>-0.363237</td>\n",
       "      <td>1.000000</td>\n",
       "      <td>0.767663</td>\n",
       "    </tr>\n",
       "    <tr>\n",
       "      <th>portfolio</th>\n",
       "      <td>0.001012</td>\n",
       "      <td>0.767663</td>\n",
       "      <td>1.000000</td>\n",
       "    </tr>\n",
       "  </tbody>\n",
       "</table>\n",
       "</div>"
      ],
      "text/plain": [
       "           momentum     value  portfolio\n",
       "momentum   1.000000 -0.363237   0.001012\n",
       "value     -0.363237  1.000000   0.767663\n",
       "portfolio  0.001012  0.767663   1.000000"
      ]
     },
     "execution_count": 54,
     "metadata": {},
     "output_type": "execute_result"
    }
   ],
   "source": [
    "# Calculate the pairwise correlation\n",
    "factor_data.corr()"
   ]
  },
  {
   "cell_type": "code",
   "execution_count": 55,
   "metadata": {},
   "outputs": [
    {
     "data": {
      "image/png": "[encoded data removed]",
      "text/plain": [
       "<Figure size 432x288 with 1 Axes>"
      ]
     },
     "metadata": {
      "needs_background": "light"
     },
     "output_type": "display_data"
    }
   ],
   "source": [
    "# Calculate the pairwise correlation\n",
    "factor_data.corr()\n",
    "\n",
    "# Calculate rolling 5 day correlation \n",
    "factor_data['correlation_value']=factor_data['portfolio'].rolling(5).corr(factor_data['value'])\n",
    "\n",
    "# Plot the rolling correlation\n",
    "factor_data['correlation_value'].plot()\n",
    "plt.legend()\n",
    "plt.show()"
   ]
  },
  {
   "cell_type": "code",
   "execution_count": 56,
   "metadata": {},
   "outputs": [
    {
     "data": {
      "text/html": [
       "<div>\n",
       "<style scoped>\n",
       "    .dataframe tbody tr th:only-of-type {\n",
       "        vertical-align: middle;\n",
       "    }\n",
       "\n",
       "    .dataframe tbody tr th {\n",
       "        vertical-align: top;\n",
       "    }\n",
       "\n",
       "    .dataframe thead th {\n",
       "        text-align: right;\n",
       "    }\n",
       "</style>\n",
       "<table border=\"1\" class=\"dataframe\">\n",
       "  <thead>\n",
       "    <tr style=\"text-align: right;\">\n",
       "      <th></th>\n",
       "      <th>Mkt-RF</th>\n",
       "      <th>SMB</th>\n",
       "      <th>HML</th>\n",
       "      <th>RF</th>\n",
       "      <th>pf_returns</th>\n",
       "    </tr>\n",
       "    <tr>\n",
       "      <th>date</th>\n",
       "      <th></th>\n",
       "      <th></th>\n",
       "      <th></th>\n",
       "      <th></th>\n",
       "      <th></th>\n",
       "    </tr>\n",
       "  </thead>\n",
       "  <tbody>\n",
       "    <tr>\n",
       "      <th>2016-01-04</th>\n",
       "      <td>-1.59</td>\n",
       "      <td>-0.83</td>\n",
       "      <td>0.53</td>\n",
       "      <td>0.000</td>\n",
       "      <td>-1.651745</td>\n",
       "    </tr>\n",
       "    <tr>\n",
       "      <th>2016-01-05</th>\n",
       "      <td>0.12</td>\n",
       "      <td>-0.22</td>\n",
       "      <td>0.01</td>\n",
       "      <td>0.000</td>\n",
       "      <td>0.408161</td>\n",
       "    </tr>\n",
       "    <tr>\n",
       "      <th>2016-01-06</th>\n",
       "      <td>-1.35</td>\n",
       "      <td>-0.12</td>\n",
       "      <td>0.00</td>\n",
       "      <td>0.000</td>\n",
       "      <td>0.325555</td>\n",
       "    </tr>\n",
       "    <tr>\n",
       "      <th>2016-01-07</th>\n",
       "      <td>-2.44</td>\n",
       "      <td>-0.29</td>\n",
       "      <td>0.08</td>\n",
       "      <td>0.000</td>\n",
       "      <td>-0.698259</td>\n",
       "    </tr>\n",
       "    <tr>\n",
       "      <th>2016-01-08</th>\n",
       "      <td>-1.11</td>\n",
       "      <td>-0.47</td>\n",
       "      <td>-0.03</td>\n",
       "      <td>0.000</td>\n",
       "      <td>-0.959352</td>\n",
       "    </tr>\n",
       "    <tr>\n",
       "      <th>...</th>\n",
       "      <td>...</td>\n",
       "      <td>...</td>\n",
       "      <td>...</td>\n",
       "      <td>...</td>\n",
       "      <td>...</td>\n",
       "    </tr>\n",
       "    <tr>\n",
       "      <th>2016-12-23</th>\n",
       "      <td>0.19</td>\n",
       "      <td>0.56</td>\n",
       "      <td>-0.52</td>\n",
       "      <td>0.001</td>\n",
       "      <td>0.438153</td>\n",
       "    </tr>\n",
       "    <tr>\n",
       "      <th>2016-12-27</th>\n",
       "      <td>0.27</td>\n",
       "      <td>0.21</td>\n",
       "      <td>0.13</td>\n",
       "      <td>0.001</td>\n",
       "      <td>0.430411</td>\n",
       "    </tr>\n",
       "    <tr>\n",
       "      <th>2016-12-28</th>\n",
       "      <td>-0.87</td>\n",
       "      <td>-0.27</td>\n",
       "      <td>0.08</td>\n",
       "      <td>0.001</td>\n",
       "      <td>-0.903525</td>\n",
       "    </tr>\n",
       "    <tr>\n",
       "      <th>2016-12-29</th>\n",
       "      <td>-0.04</td>\n",
       "      <td>0.13</td>\n",
       "      <td>-0.31</td>\n",
       "      <td>0.001</td>\n",
       "      <td>0.235954</td>\n",
       "    </tr>\n",
       "    <tr>\n",
       "      <th>2016-12-30</th>\n",
       "      <td>-0.52</td>\n",
       "      <td>-0.11</td>\n",
       "      <td>0.20</td>\n",
       "      <td>0.001</td>\n",
       "      <td>-0.805551</td>\n",
       "    </tr>\n",
       "  </tbody>\n",
       "</table>\n",
       "<p>252 rows × 5 columns</p>\n",
       "</div>"
      ],
      "text/plain": [
       "            Mkt-RF   SMB   HML     RF  pf_returns\n",
       "date                                             \n",
       "2016-01-04   -1.59 -0.83  0.53  0.000   -1.651745\n",
       "2016-01-05    0.12 -0.22  0.01  0.000    0.408161\n",
       "2016-01-06   -1.35 -0.12  0.00  0.000    0.325555\n",
       "2016-01-07   -2.44 -0.29  0.08  0.000   -0.698259\n",
       "2016-01-08   -1.11 -0.47 -0.03  0.000   -0.959352\n",
       "...            ...   ...   ...    ...         ...\n",
       "2016-12-23    0.19  0.56 -0.52  0.001    0.438153\n",
       "2016-12-27    0.27  0.21  0.13  0.001    0.430411\n",
       "2016-12-28   -0.87 -0.27  0.08  0.001   -0.903525\n",
       "2016-12-29   -0.04  0.13 -0.31  0.001    0.235954\n",
       "2016-12-30   -0.52 -0.11  0.20  0.001   -0.805551\n",
       "\n",
       "[252 rows x 5 columns]"
      ]
     },
     "execution_count": 56,
     "metadata": {},
     "output_type": "execute_result"
    }
   ],
   "source": [
    "# using linear regression model to create a Farma Frecnh model:\n",
    "# lets see the correlation with our portfolio\n",
    "factor_returns = pd.read_excel(\"F:\\\\schulich\\\\datacamp\\\\python finance fundamentals\\\\6-Introduction to Portfolio Analysis in Python\\\\portfolio and fama frecnh factors.xlsx\",\n",
    "                             parse_dates=['date'], index_col='date')\n",
    "factor_returns"
   ]
  },
  {
   "cell_type": "code",
   "execution_count": 57,
   "metadata": {},
   "outputs": [
    {
     "name": "stdout",
     "output_type": "stream",
     "text": [
      "              Mkt-RF       SMB       HML        RF  pf_returns\n",
      "Mkt-RF      1.000000  0.331250  0.099800  0.087073    0.738586\n",
      "SMB         0.331250  1.000000 -0.108081  0.076750    0.162303\n",
      "HML         0.099800 -0.108081  1.000000 -0.049019   -0.237647\n",
      "RF          0.087073  0.076750 -0.049019  1.000000    0.039383\n",
      "pf_returns  0.738586  0.162303 -0.237647  0.039383    1.000000\n"
     ]
    }
   ],
   "source": [
    "# In this exercise you want to check how much correlation your portfolio returns have with the Fama French factors.\n",
    "# With a quick correlation table, you can very easily gain insight into how your portfolio returns move with for \n",
    "# example the excess market return or the size and value factors.\n",
    "\n",
    "# Print the correlation table \n",
    "print(factor_returns.corr())"
   ]
  },
  {
   "cell_type": "code",
   "execution_count": 58,
   "metadata": {},
   "outputs": [
    {
     "data": {
      "text/plain": [
       "<AxesSubplot:>"
      ]
     },
     "execution_count": 58,
     "metadata": {},
     "output_type": "execute_result"
    },
    {
     "data": {
      "image/png": "[encoded data removed]",
      "text/plain": [
       "<Figure size 432x288 with 2 Axes>"
      ]
     },
     "metadata": {
      "needs_background": "light"
     },
     "output_type": "display_data"
    }
   ],
   "source": [
    "sns.heatmap(factor_returns.corr(), annot = True, cmap = 'RdYlGn')"
   ]
  },
  {
   "cell_type": "code",
   "execution_count": 59,
   "metadata": {},
   "outputs": [],
   "source": [
    "# Based on what you see in the above correlation table, do you think this portfolio manager has strong \n",
    "# strategic investment skills?\n",
    "# No, the performance of this portfolio can largely be explained by market returns, but not so much by factor returns."
   ]
  },
  {
   "cell_type": "code",
   "execution_count": 60,
   "metadata": {},
   "outputs": [],
   "source": [
    "import statsmodels.api as sm\n",
    "# Define the model\n",
    "model = sm.OLS(factor_returns['pf_returns'], factor_returns[['Mkt-RF','SMB', 'HML']]).fit()"
   ]
  },
  {
   "cell_type": "code",
   "execution_count": 61,
   "metadata": {},
   "outputs": [
    {
     "data": {
      "text/plain": [
       "date\n",
       "2016-01-04   -1.376476\n",
       "2016-01-05    0.143971\n",
       "2016-01-06   -1.084384\n",
       "2016-01-07   -1.981920\n",
       "2016-01-08   -0.792760\n",
       "                ...   \n",
       "2016-12-23    0.280174\n",
       "2016-12-27    0.111880\n",
       "2016-12-28   -0.693659\n",
       "2016-12-29    0.087132\n",
       "2016-12-30   -0.499718\n",
       "Length: 252, dtype: float64"
      ]
     },
     "execution_count": 61,
     "metadata": {},
     "output_type": "execute_result"
    }
   ],
   "source": [
    "# Create model predictions\n",
    "predictions = model.predict(factor_returns[['Mkt-RF','SMB', 'HML']])\n",
    "predictions"
   ]
  },
  {
   "cell_type": "code",
   "execution_count": 62,
   "metadata": {},
   "outputs": [
    {
     "data": {
      "text/html": [
       "<table class=\"simpletable\">\n",
       "<caption>OLS Regression Results</caption>\n",
       "<tr>\n",
       "  <th>Dep. Variable:</th>       <td>pf_returns</td>    <th>  R-squared (uncentered):</th>      <td>   0.657</td>\n",
       "</tr>\n",
       "<tr>\n",
       "  <th>Model:</th>                   <td>OLS</td>       <th>  Adj. R-squared (uncentered):</th> <td>   0.653</td>\n",
       "</tr>\n",
       "<tr>\n",
       "  <th>Method:</th>             <td>Least Squares</td>  <th>  F-statistic:       </th>          <td>   158.8</td>\n",
       "</tr>\n",
       "<tr>\n",
       "  <th>Date:</th>             <td>Fri, 09 Jul 2021</td> <th>  Prob (F-statistic):</th>          <td>1.55e-57</td>\n",
       "</tr>\n",
       "<tr>\n",
       "  <th>Time:</th>                 <td>23:05:12</td>     <th>  Log-Likelihood:    </th>          <td> -185.67</td>\n",
       "</tr>\n",
       "<tr>\n",
       "  <th>No. Observations:</th>      <td>   252</td>      <th>  AIC:               </th>          <td>   377.3</td>\n",
       "</tr>\n",
       "<tr>\n",
       "  <th>Df Residuals:</th>          <td>   249</td>      <th>  BIC:               </th>          <td>   387.9</td>\n",
       "</tr>\n",
       "<tr>\n",
       "  <th>Df Model:</th>              <td>     3</td>      <th>                     </th>              <td> </td>   \n",
       "</tr>\n",
       "<tr>\n",
       "  <th>Covariance Type:</th>      <td>nonrobust</td>    <th>                     </th>              <td> </td>   \n",
       "</tr>\n",
       "</table>\n",
       "<table class=\"simpletable\">\n",
       "<tr>\n",
       "     <td></td>       <th>coef</th>     <th>std err</th>      <th>t</th>      <th>P>|t|</th>  <th>[0.025</th>    <th>0.975]</th>  \n",
       "</tr>\n",
       "<tr>\n",
       "  <th>Mkt-RF</th> <td>    0.8234</td> <td>    0.040</td> <td>   20.627</td> <td> 0.000</td> <td>    0.745</td> <td>    0.902</td>\n",
       "</tr>\n",
       "<tr>\n",
       "  <th>SMB</th>    <td>   -0.2272</td> <td>    0.064</td> <td>   -3.545</td> <td> 0.000</td> <td>   -0.353</td> <td>   -0.101</td>\n",
       "</tr>\n",
       "<tr>\n",
       "  <th>HML</th>    <td>   -0.4826</td> <td>    0.056</td> <td>   -8.611</td> <td> 0.000</td> <td>   -0.593</td> <td>   -0.372</td>\n",
       "</tr>\n",
       "</table>\n",
       "<table class=\"simpletable\">\n",
       "<tr>\n",
       "  <th>Omnibus:</th>       <td>143.224</td> <th>  Durbin-Watson:     </th> <td>   1.925</td>\n",
       "</tr>\n",
       "<tr>\n",
       "  <th>Prob(Omnibus):</th> <td> 0.000</td>  <th>  Jarque-Bera (JB):  </th> <td>1746.553</td>\n",
       "</tr>\n",
       "<tr>\n",
       "  <th>Skew:</th>          <td> 1.972</td>  <th>  Prob(JB):          </th> <td>    0.00</td>\n",
       "</tr>\n",
       "<tr>\n",
       "  <th>Kurtosis:</th>      <td>15.279</td>  <th>  Cond. No.          </th> <td>    1.89</td>\n",
       "</tr>\n",
       "</table><br/><br/>Notes:<br/>[1] R² is computed without centering (uncentered) since the model does not contain a constant.<br/>[2] Standard Errors assume that the covariance matrix of the errors is correctly specified."
      ],
      "text/plain": [
       "<class 'statsmodels.iolib.summary.Summary'>\n",
       "\"\"\"\n",
       "                                 OLS Regression Results                                \n",
       "=======================================================================================\n",
       "Dep. Variable:             pf_returns   R-squared (uncentered):                   0.657\n",
       "Model:                            OLS   Adj. R-squared (uncentered):              0.653\n",
       "Method:                 Least Squares   F-statistic:                              158.8\n",
       "Date:                Fri, 09 Jul 2021   Prob (F-statistic):                    1.55e-57\n",
       "Time:                        23:05:12   Log-Likelihood:                         -185.67\n",
       "No. Observations:                 252   AIC:                                      377.3\n",
       "Df Residuals:                     249   BIC:                                      387.9\n",
       "Df Model:                           3                                                  \n",
       "Covariance Type:            nonrobust                                                  \n",
       "==============================================================================\n",
       "                 coef    std err          t      P>|t|      [0.025      0.975]\n",
       "------------------------------------------------------------------------------\n",
       "Mkt-RF         0.8234      0.040     20.627      0.000       0.745       0.902\n",
       "SMB           -0.2272      0.064     -3.545      0.000      -0.353      -0.101\n",
       "HML           -0.4826      0.056     -8.611      0.000      -0.593      -0.372\n",
       "==============================================================================\n",
       "Omnibus:                      143.224   Durbin-Watson:                   1.925\n",
       "Prob(Omnibus):                  0.000   Jarque-Bera (JB):             1746.553\n",
       "Skew:                           1.972   Prob(JB):                         0.00\n",
       "Kurtosis:                      15.279   Cond. No.                         1.89\n",
       "==============================================================================\n",
       "\n",
       "Notes:\n",
       "[1] R² is computed without centering (uncentered) since the model does not contain a constant.\n",
       "[2] Standard Errors assume that the covariance matrix of the errors is correctly specified.\n",
       "\"\"\""
      ]
     },
     "execution_count": 62,
     "metadata": {},
     "output_type": "execute_result"
    }
   ],
   "source": [
    "# Print out the summary\n",
    "model.summary()"
   ]
  },
  {
   "cell_type": "code",
   "execution_count": 63,
   "metadata": {},
   "outputs": [
    {
     "name": "stdout",
     "output_type": "stream",
     "text": [
      "Sensitivities of active returns to factors:\n",
      "Mkt-Rf: 0.823443\n",
      "SMB: -0.227199\n",
      "HML: -0.482598\n"
     ]
    }
   ],
   "source": [
    "# we can get only coefs if we dont want the whole summary\n",
    "# Obtain the beta coefficients\n",
    "b1, b2, b3 = model.params\n",
    "\n",
    "# Print the betas\n",
    "print ('Sensitivities of active returns to factors:\\nMkt-Rf: %f\\nSMB: %f\\nHML: %f' %  (b1, b2, b3))"
   ]
  },
  {
   "cell_type": "code",
   "execution_count": 64,
   "metadata": {},
   "outputs": [],
   "source": [
    "# what is back testing:\n",
    "# back testing is to run your strategy on historic data and see how it would have performed, if you would\n",
    "# have traded it over that histpric time period. it gives and estimate for risk and return numbers for the future\n",
    "# however, warning, be very careful with extrapolating back-test results to the futues, one strategy that has worked\n",
    "# historially well, it not guaranteed to continue its success in the fuutre, because the underlying market can and \n",
    "# will change. for example they can become more volatile.So a good back-test in never a guarantee for string future \n",
    "# performance. \n",
    "# (like what we did in our low vol strategy in the investment course)\n",
    "\n",
    "# You'll see that the elaborate calculations you've done in previous chapters, can very quickly be generated with this simple tear sheet, and by inputting just the returns data. In that sense,\n",
    "# this tear sheet can save you a lot of time!"
   ]
  },
  {
   "cell_type": "code",
   "execution_count": 65,
   "metadata": {
    "scrolled": true
   },
   "outputs": [
    {
     "name": "stderr",
     "output_type": "stream",
     "text": [
      "C:\\Users\\sasan\\anaconda3\\lib\\site-packages\\pyfolio\\pos.py:26: UserWarning: Module \"zipline.assets\" not found; multipliers will not be applied to position notionals.\n",
      "  warnings.warn(\n"
     ]
    }
   ],
   "source": [
    "# creating tear sheet (fund fact sheet) using pyfolio\n",
    "# Import the package\n",
    "import pyfolio as pf"
   ]
  },
  {
   "cell_type": "code",
   "execution_count": 66,
   "metadata": {},
   "outputs": [
    {
     "data": {
      "text/html": [
       "<div>\n",
       "<style scoped>\n",
       "    .dataframe tbody tr th:only-of-type {\n",
       "        vertical-align: middle;\n",
       "    }\n",
       "\n",
       "    .dataframe tbody tr th {\n",
       "        vertical-align: top;\n",
       "    }\n",
       "\n",
       "    .dataframe thead th {\n",
       "        text-align: right;\n",
       "    }\n",
       "</style>\n",
       "<table border=\"1\" class=\"dataframe\">\n",
       "  <thead>\n",
       "    <tr style=\"text-align: right;\">\n",
       "      <th></th>\n",
       "      <th>S&amp;P500</th>\n",
       "    </tr>\n",
       "    <tr>\n",
       "      <th>date</th>\n",
       "      <th></th>\n",
       "    </tr>\n",
       "  </thead>\n",
       "  <tbody>\n",
       "    <tr>\n",
       "      <th>2015-01-02</th>\n",
       "      <td>0.000000</td>\n",
       "    </tr>\n",
       "    <tr>\n",
       "      <th>2015-01-05</th>\n",
       "      <td>-0.018278</td>\n",
       "    </tr>\n",
       "    <tr>\n",
       "      <th>2015-01-06</th>\n",
       "      <td>-0.008893</td>\n",
       "    </tr>\n",
       "    <tr>\n",
       "      <th>2015-01-07</th>\n",
       "      <td>0.011630</td>\n",
       "    </tr>\n",
       "    <tr>\n",
       "      <th>2015-01-08</th>\n",
       "      <td>0.017888</td>\n",
       "    </tr>\n",
       "  </tbody>\n",
       "</table>\n",
       "</div>"
      ],
      "text/plain": [
       "              S&P500\n",
       "date                \n",
       "2015-01-02  0.000000\n",
       "2015-01-05 -0.018278\n",
       "2015-01-06 -0.008893\n",
       "2015-01-07  0.011630\n",
       "2015-01-08  0.017888"
      ]
     },
     "execution_count": 66,
     "metadata": {},
     "output_type": "execute_result"
    }
   ],
   "source": [
    "returns_sp500 = pd.read_excel(\"F:\\\\schulich\\\\datacamp\\\\python finance fundamentals\\\\6-Introduction to Portfolio Analysis in Python\\\\sp500 for pyfolio.xlsx\",\n",
    "                             parse_dates=['date'], index_col='date')\n",
    "# when using data for pyfolio make sure your date is index and is datetime type, otherwise you get error\n",
    "#  if not you can use this: returns_sp500.index = pd.to_datetime(returns_sp500.index)\n",
    "returns_sp500.head()"
   ]
  },
  {
   "cell_type": "code",
   "execution_count": 67,
   "metadata": {},
   "outputs": [],
   "source": [
    "returns_sp500.index=pd.to_datetime(returns_sp500.index)"
   ]
  },
  {
   "cell_type": "code",
   "execution_count": 68,
   "metadata": {},
   "outputs": [
    {
     "data": {
      "text/plain": [
       "pandas.core.series.Series"
      ]
     },
     "execution_count": 68,
     "metadata": {},
     "output_type": "execute_result"
    }
   ],
   "source": [
    "# returns_sp500 is currently a Pandas DataFrame. Transform it into a Pandas Series by taking \n",
    "# only the S&P500 column and assigning that to a new series called returns.\n",
    "returns = pd.Series(returns_sp500['S&P500'])\n",
    "type(returns)"
   ]
  },
  {
   "cell_type": "code",
   "execution_count": 72,
   "metadata": {},
   "outputs": [
    {
     "data": {
      "text/html": [
       "<table border=\"1\" class=\"dataframe\">\n",
       "  <thead>\n",
       "    <tr style=\"text-align: right;\"><th>Start date</th><td colspan=2>2015-01-02</td></tr>\n",
       "    <tr style=\"text-align: right;\"><th>End date</th><td colspan=2>2019-03-19</td></tr>\n",
       "    <tr style=\"text-align: right;\"><th>Total months</th><td colspan=2>50</td></tr>\n",
       "    <tr style=\"text-align: right;\">\n",
       "      <th></th>\n",
       "      <th>Backtest</th>\n",
       "    </tr>\n",
       "  </thead>\n",
       "  <tbody>\n",
       "    <tr>\n",
       "      <th>Annual return</th>\n",
       "      <td>7.896%</td>\n",
       "    </tr>\n",
       "    <tr>\n",
       "      <th>Cumulative returns</th>\n",
       "      <td>37.624%</td>\n",
       "    </tr>\n",
       "    <tr>\n",
       "      <th>Annual volatility</th>\n",
       "      <td>13.662%</td>\n",
       "    </tr>\n",
       "    <tr>\n",
       "      <th>Sharpe ratio</th>\n",
       "      <td>0.62</td>\n",
       "    </tr>\n",
       "    <tr>\n",
       "      <th>Calmar ratio</th>\n",
       "      <td>0.40</td>\n",
       "    </tr>\n",
       "    <tr>\n",
       "      <th>Stability</th>\n",
       "      <td>0.85</td>\n",
       "    </tr>\n",
       "    <tr>\n",
       "      <th>Max drawdown</th>\n",
       "      <td>-19.778%</td>\n",
       "    </tr>\n",
       "    <tr>\n",
       "      <th>Omega ratio</th>\n",
       "      <td>1.12</td>\n",
       "    </tr>\n",
       "    <tr>\n",
       "      <th>Sortino ratio</th>\n",
       "      <td>0.87</td>\n",
       "    </tr>\n",
       "    <tr>\n",
       "      <th>Skew</th>\n",
       "      <td>-0.38</td>\n",
       "    </tr>\n",
       "    <tr>\n",
       "      <th>Kurtosis</th>\n",
       "      <td>3.90</td>\n",
       "    </tr>\n",
       "    <tr>\n",
       "      <th>Tail ratio</th>\n",
       "      <td>0.94</td>\n",
       "    </tr>\n",
       "    <tr>\n",
       "      <th>Daily value at risk</th>\n",
       "      <td>-1.687%</td>\n",
       "    </tr>\n",
       "  </tbody>\n",
       "</table>"
      ],
      "text/plain": [
       "<IPython.core.display.HTML object>"
      ]
     },
     "metadata": {},
     "output_type": "display_data"
    },
    {
     "data": {
      "text/html": [
       "<table border=\"1\" class=\"dataframe\">\n",
       "  <thead>\n",
       "    <tr style=\"text-align: right;\">\n",
       "      <th>Worst drawdown periods</th>\n",
       "      <th>Net drawdown in %</th>\n",
       "      <th>Peak date</th>\n",
       "      <th>Valley date</th>\n",
       "      <th>Recovery date</th>\n",
       "      <th>Duration</th>\n",
       "    </tr>\n",
       "  </thead>\n",
       "  <tbody>\n",
       "    <tr>\n",
       "      <th>0</th>\n",
       "      <td>19.78</td>\n",
       "      <td>2018-09-20</td>\n",
       "      <td>2018-12-24</td>\n",
       "      <td>NaT</td>\n",
       "      <td>NaN</td>\n",
       "    </tr>\n",
       "    <tr>\n",
       "      <th>1</th>\n",
       "      <td>14.16</td>\n",
       "      <td>2015-05-21</td>\n",
       "      <td>2016-02-11</td>\n",
       "      <td>2016-07-11</td>\n",
       "      <td>298</td>\n",
       "    </tr>\n",
       "    <tr>\n",
       "      <th>2</th>\n",
       "      <td>10.16</td>\n",
       "      <td>2018-01-26</td>\n",
       "      <td>2018-02-08</td>\n",
       "      <td>2018-08-24</td>\n",
       "      <td>151</td>\n",
       "    </tr>\n",
       "    <tr>\n",
       "      <th>3</th>\n",
       "      <td>4.79</td>\n",
       "      <td>2016-08-15</td>\n",
       "      <td>2016-11-04</td>\n",
       "      <td>2016-11-21</td>\n",
       "      <td>71</td>\n",
       "    </tr>\n",
       "    <tr>\n",
       "      <th>4</th>\n",
       "      <td>3.64</td>\n",
       "      <td>2015-03-02</td>\n",
       "      <td>2015-03-11</td>\n",
       "      <td>2015-04-24</td>\n",
       "      <td>40</td>\n",
       "    </tr>\n",
       "  </tbody>\n",
       "</table>"
      ],
      "text/plain": [
       "<IPython.core.display.HTML object>"
      ]
     },
     "metadata": {},
     "output_type": "display_data"
    },
    {
     "data": {
      "image/png": "[encoded data removed]",
      "text/plain": [
       "<Figure size 1008x4752 with 12 Axes>"
      ]
     },
     "metadata": {},
     "output_type": "display_data"
    }
   ],
   "source": [
    "# Create the returns tear sheet\n",
    "fig = pf.create_returns_tear_sheet(returns, return_fig=True)\n",
    "# Display a zoomed in version of the tear sheet\n",
    "# display_tear_sheet()"
   ]
  },
  {
   "cell_type": "code",
   "execution_count": 73,
   "metadata": {},
   "outputs": [
    {
     "ename": "NameError",
     "evalue": "name 'positions' is not defined",
     "output_type": "error",
     "traceback": [
      "\u001b[1;31m---------------------------------------------------------------------------\u001b[0m",
      "\u001b[1;31mNameError\u001b[0m                                 Traceback (most recent call last)",
      "\u001b[1;32m<ipython-input-73-c7db475311f7>\u001b[0m in \u001b[0;36m<module>\u001b[1;34m\u001b[0m\n\u001b[0;32m      7\u001b[0m             \u001b[1;34m'DELL'\u001b[0m\u001b[1;33m:\u001b[0m \u001b[1;34m'Technology'\u001b[0m\u001b[1;33m,\u001b[0m\u001b[1;33m\u001b[0m\u001b[1;33m\u001b[0m\u001b[0m\n\u001b[0;32m      8\u001b[0m             'AMD': 'Technology'}\n\u001b[1;32m----> 9\u001b[1;33m pf.create_position_tear_sheet(returns, positions,\n\u001b[0m\u001b[0;32m     10\u001b[0m sector_mappings=sect_map)\n",
      "\u001b[1;31mNameError\u001b[0m: name 'positions' is not defined"
     ]
    }
   ],
   "source": [
    "# Define the sector mappings\n",
    "sect_map = {'COST': 'Consumer Goods',\n",
    "            'INTC': 'Technology', \n",
    "            'CERN': 'Healthcare', \n",
    "            'GPS': 'Technology',\n",
    "            'MMM': 'Construction', \n",
    "            'DELL': 'Technology', \n",
    "            'AMD': 'Technology'}\n",
    "pf.create_position_tear_sheet(returns, positions,\n",
    "sector_mappings=sect_map)\n"
   ]
  },
  {
   "cell_type": "code",
   "execution_count": 142,
   "metadata": {},
   "outputs": [],
   "source": [
    "# Import the packages \n",
    "import pypfopt \n",
    "from pypfopt import risk_models\n",
    "from pypfopt import expected_returns\n",
    "from pypfopt.efficient_frontier import EfficientFrontier\n"
   ]
  },
  {
   "cell_type": "code",
   "execution_count": 155,
   "metadata": {},
   "outputs": [
    {
     "data": {
      "text/html": [
       "<div>\n",
       "<style scoped>\n",
       "    .dataframe tbody tr th:only-of-type {\n",
       "        vertical-align: middle;\n",
       "    }\n",
       "\n",
       "    .dataframe tbody tr th {\n",
       "        vertical-align: top;\n",
       "    }\n",
       "\n",
       "    .dataframe thead th {\n",
       "        text-align: right;\n",
       "    }\n",
       "</style>\n",
       "<table border=\"1\" class=\"dataframe\">\n",
       "  <thead>\n",
       "    <tr style=\"text-align: right;\">\n",
       "      <th></th>\n",
       "      <th>GE</th>\n",
       "      <th>GPM</th>\n",
       "      <th>MSF</th>\n",
       "      <th>PG</th>\n",
       "    </tr>\n",
       "    <tr>\n",
       "      <th>date</th>\n",
       "      <th></th>\n",
       "      <th></th>\n",
       "      <th></th>\n",
       "      <th></th>\n",
       "    </tr>\n",
       "  </thead>\n",
       "  <tbody>\n",
       "    <tr>\n",
       "      <th>2015-01-02</th>\n",
       "      <td>25.06</td>\n",
       "      <td>62.49</td>\n",
       "      <td>46.760</td>\n",
       "      <td>90.44</td>\n",
       "    </tr>\n",
       "    <tr>\n",
       "      <th>2015-01-05</th>\n",
       "      <td>24.60</td>\n",
       "      <td>60.55</td>\n",
       "      <td>46.325</td>\n",
       "      <td>90.01</td>\n",
       "    </tr>\n",
       "    <tr>\n",
       "      <th>2015-01-06</th>\n",
       "      <td>24.07</td>\n",
       "      <td>58.98</td>\n",
       "      <td>45.650</td>\n",
       "      <td>89.60</td>\n",
       "    </tr>\n",
       "    <tr>\n",
       "      <th>2015-01-07</th>\n",
       "      <td>24.08</td>\n",
       "      <td>59.07</td>\n",
       "      <td>46.230</td>\n",
       "      <td>90.07</td>\n",
       "    </tr>\n",
       "    <tr>\n",
       "      <th>2015-01-08</th>\n",
       "      <td>24.37</td>\n",
       "      <td>60.39</td>\n",
       "      <td>47.590</td>\n",
       "      <td>91.10</td>\n",
       "    </tr>\n",
       "  </tbody>\n",
       "</table>\n",
       "</div>"
      ],
      "text/plain": [
       "               GE    GPM     MSF     PG\n",
       "date                                   \n",
       "2015-01-02  25.06  62.49  46.760  90.44\n",
       "2015-01-05  24.60  60.55  46.325  90.01\n",
       "2015-01-06  24.07  58.98  45.650  89.60\n",
       "2015-01-07  24.08  59.07  46.230  90.07\n",
       "2015-01-08  24.37  60.39  47.590  91.10"
      ]
     },
     "execution_count": 155,
     "metadata": {},
     "output_type": "execute_result"
    }
   ],
   "source": [
    "stock_prices = pd.read_excel(\"F:\\\\schulich\\\\datacamp\\\\python finance fundamentals\\\\6-Introduction to Portfolio Analysis in Python\\\\stock_prices-4 company.xlsx\",\n",
    "                            parse_dates=['date'], index_col='date')\n",
    "stock_prices.head()"
   ]
  },
  {
   "cell_type": "code",
   "execution_count": 203,
   "metadata": {},
   "outputs": [
    {
     "data": {
      "text/plain": [
       "GE    -0.175812\n",
       "GPM    0.185643\n",
       "MSF    0.223083\n",
       "PG    -0.045684\n",
       "dtype: float64"
      ]
     },
     "execution_count": 203,
     "metadata": {},
     "output_type": "execute_result"
    }
   ],
   "source": [
    "# we calculate what we did before at the begining of this jupyter notebook but this time using library which is easier\n",
    "# Calculate expected returns mu \n",
    "c"
   ]
  },
  {
   "cell_type": "code",
   "execution_count": 204,
   "metadata": {},
   "outputs": [
    {
     "data": {
      "text/html": [
       "<div>\n",
       "<style scoped>\n",
       "    .dataframe tbody tr th:only-of-type {\n",
       "        vertical-align: middle;\n",
       "    }\n",
       "\n",
       "    .dataframe tbody tr th {\n",
       "        vertical-align: top;\n",
       "    }\n",
       "\n",
       "    .dataframe thead th {\n",
       "        text-align: right;\n",
       "    }\n",
       "</style>\n",
       "<table border=\"1\" class=\"dataframe\">\n",
       "  <thead>\n",
       "    <tr style=\"text-align: right;\">\n",
       "      <th></th>\n",
       "      <th>GE</th>\n",
       "      <th>GPM</th>\n",
       "      <th>MSF</th>\n",
       "      <th>PG</th>\n",
       "    </tr>\n",
       "  </thead>\n",
       "  <tbody>\n",
       "    <tr>\n",
       "      <th>GE</th>\n",
       "      <td>0.046355</td>\n",
       "      <td>0.023011</td>\n",
       "      <td>0.016415</td>\n",
       "      <td>0.010182</td>\n",
       "    </tr>\n",
       "    <tr>\n",
       "      <th>GPM</th>\n",
       "      <td>0.023011</td>\n",
       "      <td>0.047033</td>\n",
       "      <td>0.024328</td>\n",
       "      <td>0.010899</td>\n",
       "    </tr>\n",
       "    <tr>\n",
       "      <th>MSF</th>\n",
       "      <td>0.016415</td>\n",
       "      <td>0.024328</td>\n",
       "      <td>0.054486</td>\n",
       "      <td>0.014257</td>\n",
       "    </tr>\n",
       "    <tr>\n",
       "      <th>PG</th>\n",
       "      <td>0.010182</td>\n",
       "      <td>0.010899</td>\n",
       "      <td>0.014257</td>\n",
       "      <td>0.020810</td>\n",
       "    </tr>\n",
       "  </tbody>\n",
       "</table>\n",
       "</div>"
      ],
      "text/plain": [
       "           GE       GPM       MSF        PG\n",
       "GE   0.046355  0.023011  0.016415  0.010182\n",
       "GPM  0.023011  0.047033  0.024328  0.010899\n",
       "MSF  0.016415  0.024328  0.054486  0.014257\n",
       "PG   0.010182  0.010899  0.014257  0.020810"
      ]
     },
     "execution_count": 204,
     "metadata": {},
     "output_type": "execute_result"
    }
   ],
   "source": [
    "# Calculate the covariance matrix S\n",
    "Sigma = risk_models.sample_cov(stock_prices)\n",
    "Sigma"
   ]
  },
  {
   "cell_type": "code",
   "execution_count": 179,
   "metadata": {},
   "outputs": [
    {
     "data": {
      "text/html": [
       "<div>\n",
       "<style scoped>\n",
       "    .dataframe tbody tr th:only-of-type {\n",
       "        vertical-align: middle;\n",
       "    }\n",
       "\n",
       "    .dataframe tbody tr th {\n",
       "        vertical-align: top;\n",
       "    }\n",
       "\n",
       "    .dataframe thead th {\n",
       "        text-align: right;\n",
       "    }\n",
       "</style>\n",
       "<table border=\"1\" class=\"dataframe\">\n",
       "  <thead>\n",
       "    <tr style=\"text-align: right;\">\n",
       "      <th></th>\n",
       "      <th>GE</th>\n",
       "      <th>GPM</th>\n",
       "      <th>MSF</th>\n",
       "      <th>PG</th>\n",
       "    </tr>\n",
       "    <tr>\n",
       "      <th>date</th>\n",
       "      <th></th>\n",
       "      <th></th>\n",
       "      <th></th>\n",
       "      <th></th>\n",
       "    </tr>\n",
       "  </thead>\n",
       "  <tbody>\n",
       "    <tr>\n",
       "      <th>2015-01-02</th>\n",
       "      <td>NaN</td>\n",
       "      <td>NaN</td>\n",
       "      <td>NaN</td>\n",
       "      <td>NaN</td>\n",
       "    </tr>\n",
       "    <tr>\n",
       "      <th>2015-01-05</th>\n",
       "      <td>-0.018356</td>\n",
       "      <td>-0.031045</td>\n",
       "      <td>-0.009303</td>\n",
       "      <td>-0.004755</td>\n",
       "    </tr>\n",
       "    <tr>\n",
       "      <th>2015-01-06</th>\n",
       "      <td>-0.021545</td>\n",
       "      <td>-0.025929</td>\n",
       "      <td>-0.014571</td>\n",
       "      <td>-0.004555</td>\n",
       "    </tr>\n",
       "    <tr>\n",
       "      <th>2015-01-07</th>\n",
       "      <td>0.000415</td>\n",
       "      <td>0.001526</td>\n",
       "      <td>0.012705</td>\n",
       "      <td>0.005246</td>\n",
       "    </tr>\n",
       "    <tr>\n",
       "      <th>2015-01-08</th>\n",
       "      <td>0.012043</td>\n",
       "      <td>0.022346</td>\n",
       "      <td>0.029418</td>\n",
       "      <td>0.011436</td>\n",
       "    </tr>\n",
       "    <tr>\n",
       "      <th>...</th>\n",
       "      <td>...</td>\n",
       "      <td>...</td>\n",
       "      <td>...</td>\n",
       "      <td>...</td>\n",
       "    </tr>\n",
       "    <tr>\n",
       "      <th>2018-03-21</th>\n",
       "      <td>0.017595</td>\n",
       "      <td>0.000872</td>\n",
       "      <td>-0.006979</td>\n",
       "      <td>-0.016218</td>\n",
       "    </tr>\n",
       "    <tr>\n",
       "      <th>2018-03-22</th>\n",
       "      <td>-0.038184</td>\n",
       "      <td>-0.041747</td>\n",
       "      <td>-0.029087</td>\n",
       "      <td>-0.008178</td>\n",
       "    </tr>\n",
       "    <tr>\n",
       "      <th>2018-03-23</th>\n",
       "      <td>-0.020974</td>\n",
       "      <td>-0.026739</td>\n",
       "      <td>-0.029068</td>\n",
       "      <td>-0.006544</td>\n",
       "    </tr>\n",
       "    <tr>\n",
       "      <th>2018-03-26</th>\n",
       "      <td>-0.013772</td>\n",
       "      <td>0.030838</td>\n",
       "      <td>0.075705</td>\n",
       "      <td>0.006587</td>\n",
       "    </tr>\n",
       "    <tr>\n",
       "      <th>2018-03-27</th>\n",
       "      <td>0.042669</td>\n",
       "      <td>-0.019400</td>\n",
       "      <td>-0.045959</td>\n",
       "      <td>0.018060</td>\n",
       "    </tr>\n",
       "  </tbody>\n",
       "</table>\n",
       "<p>813 rows × 4 columns</p>\n",
       "</div>"
      ],
      "text/plain": [
       "                  GE       GPM       MSF        PG\n",
       "date                                              \n",
       "2015-01-02       NaN       NaN       NaN       NaN\n",
       "2015-01-05 -0.018356 -0.031045 -0.009303 -0.004755\n",
       "2015-01-06 -0.021545 -0.025929 -0.014571 -0.004555\n",
       "2015-01-07  0.000415  0.001526  0.012705  0.005246\n",
       "2015-01-08  0.012043  0.022346  0.029418  0.011436\n",
       "...              ...       ...       ...       ...\n",
       "2018-03-21  0.017595  0.000872 -0.006979 -0.016218\n",
       "2018-03-22 -0.038184 -0.041747 -0.029087 -0.008178\n",
       "2018-03-23 -0.020974 -0.026739 -0.029068 -0.006544\n",
       "2018-03-26 -0.013772  0.030838  0.075705  0.006587\n",
       "2018-03-27  0.042669 -0.019400 -0.045959  0.018060\n",
       "\n",
       "[813 rows x 4 columns]"
      ]
     },
     "execution_count": 179,
     "metadata": {},
     "output_type": "execute_result"
    }
   ],
   "source": [
    "# Get the returns from the stock price data\n",
    "returns=stock_prices.pct_change()\n",
    "returns"
   ]
  },
  {
   "cell_type": "code",
   "execution_count": 180,
   "metadata": {
    "scrolled": true
   },
   "outputs": [
    {
     "data": {
      "text/html": [
       "<div>\n",
       "<style scoped>\n",
       "    .dataframe tbody tr th:only-of-type {\n",
       "        vertical-align: middle;\n",
       "    }\n",
       "\n",
       "    .dataframe tbody tr th {\n",
       "        vertical-align: top;\n",
       "    }\n",
       "\n",
       "    .dataframe thead th {\n",
       "        text-align: right;\n",
       "    }\n",
       "</style>\n",
       "<table border=\"1\" class=\"dataframe\">\n",
       "  <thead>\n",
       "    <tr style=\"text-align: right;\">\n",
       "      <th></th>\n",
       "      <th>GE</th>\n",
       "      <th>GPM</th>\n",
       "      <th>MSF</th>\n",
       "      <th>PG</th>\n",
       "    </tr>\n",
       "  </thead>\n",
       "  <tbody>\n",
       "    <tr>\n",
       "      <th>GE</th>\n",
       "      <td>0.046355</td>\n",
       "      <td>0.023011</td>\n",
       "      <td>0.016415</td>\n",
       "      <td>0.010182</td>\n",
       "    </tr>\n",
       "    <tr>\n",
       "      <th>GPM</th>\n",
       "      <td>0.023011</td>\n",
       "      <td>0.047033</td>\n",
       "      <td>0.024328</td>\n",
       "      <td>0.010899</td>\n",
       "    </tr>\n",
       "    <tr>\n",
       "      <th>MSF</th>\n",
       "      <td>0.016415</td>\n",
       "      <td>0.024328</td>\n",
       "      <td>0.054486</td>\n",
       "      <td>0.014257</td>\n",
       "    </tr>\n",
       "    <tr>\n",
       "      <th>PG</th>\n",
       "      <td>0.010182</td>\n",
       "      <td>0.010899</td>\n",
       "      <td>0.014257</td>\n",
       "      <td>0.020810</td>\n",
       "    </tr>\n",
       "  </tbody>\n",
       "</table>\n",
       "</div>"
      ],
      "text/plain": [
       "           GE       GPM       MSF        PG\n",
       "GE   0.046355  0.023011  0.016415  0.010182\n",
       "GPM  0.023011  0.047033  0.024328  0.010899\n",
       "MSF  0.016415  0.024328  0.054486  0.014257\n",
       "PG   0.010182  0.010899  0.014257  0.020810"
      ]
     },
     "execution_count": 180,
     "metadata": {},
     "output_type": "execute_result"
    }
   ],
   "source": [
    "# Calculate the annualized covariance matrix \n",
    "# as you see it is the same as what we caluculated above from the prices using pypfopt library.\n",
    "covMatrix = returns.cov()*252\n",
    "covMatrix"
   ]
  },
  {
   "cell_type": "code",
   "execution_count": 205,
   "metadata": {},
   "outputs": [
    {
     "data": {
      "text/plain": [
       "<pypfopt.efficient_frontier.efficient_frontier.EfficientFrontier at 0x20850a66790>"
      ]
     },
     "execution_count": 205,
     "metadata": {},
     "output_type": "execute_result"
    }
   ],
   "source": [
    "# Obtain the efficient frontier\n",
    "ef = EfficientFrontier(mu, Sigma)\n",
    "ef"
   ]
  },
  {
   "cell_type": "code",
   "execution_count": 194,
   "metadata": {},
   "outputs": [],
   "source": [
    "# Let's now continue with the efficient frontier ef that you calculated in a previous exercise for the small portfolio.\n",
    "# You still need to select an optimal portfolio from that efficient frontier ef, and check its performance. \n",
    "# Let's use the efficient_return option. This function selects the portfolio with the minimized risk given a \n",
    "# target return. A portfolio manager is often asked to manage a portfolio under certain risk and return constraints,\n",
    "# so this is a very useful function for that."
   ]
  },
  {
   "cell_type": "code",
   "execution_count": 195,
   "metadata": {
    "scrolled": false
   },
   "outputs": [
    {
     "data": {
      "text/plain": [
       "OrderedDict([('GE', 3.715507e-10),\n",
       "             ('GPM', 4.0759155e-09),\n",
       "             ('MSF', 0.999999995042934),\n",
       "             ('PG', 5.095728e-10)])"
      ]
     },
     "execution_count": 195,
     "metadata": {},
     "output_type": "execute_result"
    }
   ],
   "source": [
    "# Select an optimal return for a target risk\n",
    "target_risk = 2.3 # stdev = 23%\n",
    "weights_target_risk = ef.efficient_risk(target_risk)\n",
    "weights_target_risk"
   ]
  },
  {
   "cell_type": "code",
   "execution_count": 196,
   "metadata": {},
   "outputs": [
    {
     "name": "stdout",
     "output_type": "stream",
     "text": [
      "Expected annual return: 22.3%\n",
      "Annual volatility: 23.3%\n",
      "Sharpe Ratio: 0.96\n"
     ]
    },
    {
     "data": {
      "text/plain": [
       "(0.22308343159458832, 0.2334230253358659, 0.9557044823388772)"
      ]
     },
     "execution_count": 196,
     "metadata": {},
     "output_type": "execute_result"
    }
   ],
   "source": [
    "# see the performance of given risk target portfolio\n",
    "rfr = 0\n",
    "ef.portfolio_performance(verbose=True, risk_free_rate = rfr)"
   ]
  },
  {
   "cell_type": "code",
   "execution_count": 197,
   "metadata": {
    "scrolled": true
   },
   "outputs": [
    {
     "data": {
      "text/plain": [
       "OrderedDict([('GE', 4.964355e-10),\n",
       "             ('GPM', 0.4926481964737801),\n",
       "             ('MSF', 0.4900931009824031),\n",
       "             ('PG', 0.0172587020485885)])"
      ]
     },
     "execution_count": 197,
     "metadata": {},
     "output_type": "execute_result"
    }
   ],
   "source": [
    "# Get the minimum risk portfolio for a target return \n",
    "target_return = 0.2   # 0.2 = 20%\n",
    "\n",
    "weights = ef.efficient_return(target_return)\n",
    "weights"
   ]
  },
  {
   "cell_type": "code",
   "execution_count": 198,
   "metadata": {},
   "outputs": [
    {
     "data": {
      "text/plain": [
       "OrderedDict([('GE', 0.0), ('GPM', 0.49265), ('MSF', 0.49009), ('PG', 0.01726)])"
      ]
     },
     "execution_count": 198,
     "metadata": {},
     "output_type": "execute_result"
    }
   ],
   "source": [
    "# the above weights are not so clean, you can use clean weights to make them more clean and understandable\n",
    "weights_cleaned = ef.clean_weights()\n",
    "weights_cleaned"
   ]
  },
  {
   "cell_type": "code",
   "execution_count": 199,
   "metadata": {},
   "outputs": [
    {
     "name": "stdout",
     "output_type": "stream",
     "text": [
      "Expected annual return: 20.0%\n",
      "Annual volatility: 19.2%\n",
      "Sharpe Ratio: 1.04\n"
     ]
    },
    {
     "data": {
      "text/plain": [
       "(0.20000000009678887, 0.1915266699512147, 1.0442409934226522)"
      ]
     },
     "execution_count": 199,
     "metadata": {},
     "output_type": "execute_result"
    }
   ],
   "source": [
    "# Show portfolio performance \n",
    "rfr = 0\n",
    "ef.portfolio_performance(verbose=True, risk_free_rate = rfr)"
   ]
  },
  {
   "cell_type": "code",
   "execution_count": 200,
   "metadata": {},
   "outputs": [
    {
     "data": {
      "text/plain": [
       "OrderedDict([('GE', 1.84401e-10),\n",
       "             ('GPM', 0.4396020264639606),\n",
       "             ('MSF', 0.5603979727524437),\n",
       "             ('PG', 5.99193e-10)])"
      ]
     },
     "execution_count": 200,
     "metadata": {},
     "output_type": "execute_result"
    }
   ],
   "source": [
    "# Select the maximum Sharpe portfolio\n",
    "rfr = 0\n",
    "weights_max_sharepe = ef.max_sharpe(risk_free_rate= rfr)\n",
    "weights_max_sharepe"
   ]
  },
  {
   "cell_type": "code",
   "execution_count": 201,
   "metadata": {},
   "outputs": [
    {
     "name": "stdout",
     "output_type": "stream",
     "text": [
      "Expected annual return: 20.7%\n",
      "Annual volatility: 19.5%\n",
      "Sharpe Ratio: 1.06\n"
     ]
    },
    {
     "data": {
      "text/plain": [
       "(0.2066246429583687, 0.19541424918905262, 1.0573673302527218)"
      ]
     },
     "execution_count": 201,
     "metadata": {},
     "output_type": "execute_result"
    }
   ],
   "source": [
    "# see the performance of maximum sharpe ratio portfolio\n",
    "rfr = 0\n",
    "ef.portfolio_performance(verbose=True, risk_free_rate = rfr)"
   ]
  },
  {
   "cell_type": "code",
   "execution_count": 206,
   "metadata": {},
   "outputs": [
    {
     "data": {
      "text/plain": [
       "OrderedDict([('GE', 0.1573217875054168),\n",
       "             ('GPM', 0.117142142133372),\n",
       "             ('MSF', 0.0470376255528437),\n",
       "             ('PG', 0.6784984448083675)])"
      ]
     },
     "execution_count": 206,
     "metadata": {},
     "output_type": "execute_result"
    }
   ],
   "source": [
    "# you can get the minimum volatility portfolio\n",
    "weights_min_volatility = ef.min_volatility()\n",
    "weights_min_volatility"
   ]
  },
  {
   "cell_type": "code",
   "execution_count": 207,
   "metadata": {},
   "outputs": [
    {
     "name": "stdout",
     "output_type": "stream",
     "text": [
      "Expected annual return: -2.6%\n",
      "Annual volatility: 13.3%\n",
      "Sharpe Ratio: -0.20\n"
     ]
    },
    {
     "data": {
      "text/plain": [
       "(-0.026415861751657256, 0.13292386607830184, -0.19872926157667117)"
      ]
     },
     "execution_count": 207,
     "metadata": {},
     "output_type": "execute_result"
    }
   ],
   "source": [
    "# see the performance of min volatility ratio portfolio\n",
    "rfr = 0\n",
    "ef.portfolio_performance(verbose=True, risk_free_rate = rfr)"
   ]
  },
  {
   "cell_type": "code",
   "execution_count": 209,
   "metadata": {},
   "outputs": [],
   "source": [
    "# better estimating for expected return and expected volatility\n",
    "# using historic return gives the same weights to all observations, regardless of their time\n",
    "# but a better way is to gives higher weight to most recent data\n",
    "# using exponential function we can define how much weight should be assigned to which time\n",
    "# exponential mean works like moving average"
   ]
  },
  {
   "cell_type": "code",
   "execution_count": 217,
   "metadata": {},
   "outputs": [
    {
     "data": {
      "text/plain": [
       "GE    -0.593308\n",
       "GPM    0.172294\n",
       "MSF    0.285390\n",
       "PG    -0.241595\n",
       "Name: 2018-03-27 00:00:00, dtype: float64"
      ]
     },
     "execution_count": 217,
     "metadata": {},
     "output_type": "execute_result"
    }
   ],
   "source": [
    "# we can easily calculate exponentially weighted moving average\n",
    "# span: lookback window over which you calculate the return\n",
    "# frecquency: the number of trading days in a year\n",
    "mu_ema = expected_returns.ema_historical_return(stock_prices, span = 180, frequency=252)\n",
    "mu_ema"
   ]
  },
  {
   "cell_type": "code",
   "execution_count": 211,
   "metadata": {},
   "outputs": [
    {
     "data": {
      "text/html": [
       "<div>\n",
       "<style scoped>\n",
       "    .dataframe tbody tr th:only-of-type {\n",
       "        vertical-align: middle;\n",
       "    }\n",
       "\n",
       "    .dataframe tbody tr th {\n",
       "        vertical-align: top;\n",
       "    }\n",
       "\n",
       "    .dataframe thead th {\n",
       "        text-align: right;\n",
       "    }\n",
       "</style>\n",
       "<table border=\"1\" class=\"dataframe\">\n",
       "  <thead>\n",
       "    <tr style=\"text-align: right;\">\n",
       "      <th></th>\n",
       "      <th>GE</th>\n",
       "      <th>GPM</th>\n",
       "      <th>MSF</th>\n",
       "      <th>PG</th>\n",
       "    </tr>\n",
       "  </thead>\n",
       "  <tbody>\n",
       "    <tr>\n",
       "      <th>GE</th>\n",
       "      <td>0.089302</td>\n",
       "      <td>0.026028</td>\n",
       "      <td>0.013672</td>\n",
       "      <td>0.009110</td>\n",
       "    </tr>\n",
       "    <tr>\n",
       "      <th>GPM</th>\n",
       "      <td>0.026028</td>\n",
       "      <td>0.045717</td>\n",
       "      <td>0.034885</td>\n",
       "      <td>0.009699</td>\n",
       "    </tr>\n",
       "    <tr>\n",
       "      <th>MSF</th>\n",
       "      <td>0.013672</td>\n",
       "      <td>0.034885</td>\n",
       "      <td>0.067528</td>\n",
       "      <td>0.009651</td>\n",
       "    </tr>\n",
       "    <tr>\n",
       "      <th>PG</th>\n",
       "      <td>0.009110</td>\n",
       "      <td>0.009699</td>\n",
       "      <td>0.009651</td>\n",
       "      <td>0.022898</td>\n",
       "    </tr>\n",
       "  </tbody>\n",
       "</table>\n",
       "</div>"
      ],
      "text/plain": [
       "           GE       GPM       MSF        PG\n",
       "GE   0.089302  0.026028  0.013672  0.009110\n",
       "GPM  0.026028  0.045717  0.034885  0.009699\n",
       "MSF  0.013672  0.034885  0.067528  0.009651\n",
       "PG   0.009110  0.009699  0.009651  0.022898"
      ]
     },
     "execution_count": 211,
     "metadata": {},
     "output_type": "execute_result"
    }
   ],
   "source": [
    "# similarly we can caluclate exponentially weighted covariance\n",
    "# the span does not necessarily need to be the same as span for exponentially moving average return\n",
    "sigma_ex = risk_models.exp_cov(stock_prices, span=180, frequency=252)\n",
    "sigma_ex"
   ]
  },
  {
   "cell_type": "code",
   "execution_count": 215,
   "metadata": {},
   "outputs": [
    {
     "data": {
      "text/plain": [
       "<pypfopt.efficient_frontier.efficient_frontier.EfficientFrontier at 0x2084fbc2e20>"
      ]
     },
     "execution_count": 215,
     "metadata": {},
     "output_type": "execute_result"
    }
   ],
   "source": [
    "# we can get a more reliable efficient frontier which is more consistent with the most recent data\n",
    "ef = EfficientFrontier(mu_ema, sigma_ex)\n",
    "ef"
   ]
  },
  {
   "cell_type": "code",
   "execution_count": 216,
   "metadata": {},
   "outputs": [
    {
     "name": "stdout",
     "output_type": "stream",
     "text": [
      "OrderedDict([('GE', 0.0), ('GPM', 0.1926271296313854), ('MSF', 0.8073728703686145), ('PG', 0.0)])\n",
      "Expected annual return: 26.4%\n",
      "Annual volatility: 23.8%\n",
      "Sharpe Ratio: 1.11\n"
     ]
    },
    {
     "data": {
      "text/plain": [
       "(0.26360441503021814, 0.23783464413629896, 1.1083516280292243)"
      ]
     },
     "execution_count": 216,
     "metadata": {},
     "output_type": "execute_result"
    }
   ],
   "source": [
    "# lets for exmaple het the weight for maximum sharpe ratio\n",
    "rfr = 0\n",
    "weights_max_sharepe = ef.max_sharpe(risk_free_rate= rfr)\n",
    "print(weights_max_sharepe)\n",
    "ef.portfolio_performance(verbose=True, risk_free_rate = rfr)"
   ]
  },
  {
   "cell_type": "code",
   "execution_count": 219,
   "metadata": {},
   "outputs": [
    {
     "data": {
      "text/html": [
       "<div>\n",
       "<style scoped>\n",
       "    .dataframe tbody tr th:only-of-type {\n",
       "        vertical-align: middle;\n",
       "    }\n",
       "\n",
       "    .dataframe tbody tr th {\n",
       "        vertical-align: top;\n",
       "    }\n",
       "\n",
       "    .dataframe thead th {\n",
       "        text-align: right;\n",
       "    }\n",
       "</style>\n",
       "<table border=\"1\" class=\"dataframe\">\n",
       "  <thead>\n",
       "    <tr style=\"text-align: right;\">\n",
       "      <th></th>\n",
       "      <th>GE</th>\n",
       "      <th>GPM</th>\n",
       "      <th>MSF</th>\n",
       "      <th>PG</th>\n",
       "    </tr>\n",
       "  </thead>\n",
       "  <tbody>\n",
       "    <tr>\n",
       "      <th>GE</th>\n",
       "      <td>0.025121</td>\n",
       "      <td>0.014013</td>\n",
       "      <td>0.012002</td>\n",
       "      <td>0.008231</td>\n",
       "    </tr>\n",
       "    <tr>\n",
       "      <th>GPM</th>\n",
       "      <td>0.014013</td>\n",
       "      <td>0.021684</td>\n",
       "      <td>0.013961</td>\n",
       "      <td>0.008114</td>\n",
       "    </tr>\n",
       "    <tr>\n",
       "      <th>MSF</th>\n",
       "      <td>0.012002</td>\n",
       "      <td>0.013961</td>\n",
       "      <td>0.023460</td>\n",
       "      <td>0.009030</td>\n",
       "    </tr>\n",
       "    <tr>\n",
       "      <th>PG</th>\n",
       "      <td>0.008231</td>\n",
       "      <td>0.008114</td>\n",
       "      <td>0.009030</td>\n",
       "      <td>0.011152</td>\n",
       "    </tr>\n",
       "  </tbody>\n",
       "</table>\n",
       "</div>"
      ],
      "text/plain": [
       "           GE       GPM       MSF        PG\n",
       "GE   0.025121  0.014013  0.012002  0.008231\n",
       "GPM  0.014013  0.021684  0.013961  0.008114\n",
       "MSF  0.012002  0.013961  0.023460  0.009030\n",
       "PG   0.008231  0.008114  0.009030  0.011152"
      ]
     },
     "execution_count": 219,
     "metadata": {},
     "output_type": "execute_result"
    }
   ],
   "source": [
    "# using downside risk in performance optimization\n",
    "# this approach is similar to sortio ratio where we just care about negative returns\n",
    "# in PyPortfolioOpt we can do the same and get the variance of only negative returns\n",
    "# it is called semi-covariance\n",
    "# benchmark = 0 means taking returns below 0% into account. \n",
    "sigma_semi = risk_models.semicovariance(stock_prices, benchmark=0, frequency=252)\n",
    "sigma_semi"
   ]
  },
  {
   "cell_type": "code",
   "execution_count": null,
   "metadata": {},
   "outputs": [],
   "source": [
    "# and we can use this sigma in our portfolio optimazation."
   ]
  }
 ],
 "metadata": {
  "kernelspec": {
   "display_name": "Python 3",
   "language": "python",
   "name": "python3"
  },
  "language_info": {
   "codemirror_mode": {
    "name": "ipython",
    "version": 3
   },
   "file_extension": ".py",
   "mimetype": "text/x-python",
   "name": "python",
   "nbconvert_exporter": "python",
   "pygments_lexer": "ipython3",
   "version": "3.8.8"
  }
 },
 "nbformat": 4,
 "nbformat_minor": 4
}
